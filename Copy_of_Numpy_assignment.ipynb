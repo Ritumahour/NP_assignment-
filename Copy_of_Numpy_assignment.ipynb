{
  "nbformat": 4,
  "nbformat_minor": 0,
  "metadata": {
    "colab": {
      "provenance": [],
      "authorship_tag": "ABX9TyMEFct+t+IroMzicSNLB3jq",
      "include_colab_link": true
    },
    "kernelspec": {
      "name": "python3",
      "display_name": "Python 3"
    },
    "language_info": {
      "name": "python"
    }
  },
  "cells": [
    {
      "cell_type": "markdown",
      "metadata": {
        "id": "view-in-github",
        "colab_type": "text"
      },
      "source": [
        "<a href=\"https://colab.research.google.com/github/Ritumahour/NP_assignment-/blob/main/Copy_of_Numpy_assignment.ipynb\" target=\"_parent\"><img src=\"https://colab.research.google.com/assets/colab-badge.svg\" alt=\"Open In Colab\"/></a>"
      ]
    },
    {
      "cell_type": "markdown",
      "source": [
        "1. Create a NumPy array 'arr' of integers from 0 to 5 and print its data type.\n"
      ],
      "metadata": {
        "id": "BNG-nctsh4bw"
      }
    },
    {
      "cell_type": "code",
      "source": [
        "import numpy as np\n",
        "arr = np.array([0, 1, 2, 3, 4, 5])\n",
        "print(arr)"
      ],
      "metadata": {
        "id": "p2vSF8uih-iR",
        "colab": {
          "base_uri": "https://localhost:8080/"
        },
        "outputId": "75d95ff4-b65a-4fc2-ef22-43a70be9c711"
      },
      "execution_count": null,
      "outputs": [
        {
          "output_type": "stream",
          "name": "stdout",
          "text": [
            "[0 1 2 3 4 5]\n"
          ]
        }
      ]
    },
    {
      "cell_type": "markdown",
      "source": [
        "2. Given a NumPy array 'arr', check if its data type is float64.\n"
      ],
      "metadata": {
        "id": "RUvj9xLrkL3a"
      }
    },
    {
      "cell_type": "code",
      "source": [
        "arr = np.array([1.5, 2.6, 3.7])\n",
        "print(arr.dtype)"
      ],
      "metadata": {
        "colab": {
          "base_uri": "https://localhost:8080/"
        },
        "id": "Ze4t2s5RjK5C",
        "outputId": "cf8161c2-f9c1-4bdf-afd5-9ce475125af6"
      },
      "execution_count": null,
      "outputs": [
        {
          "output_type": "stream",
          "name": "stdout",
          "text": [
            "float64\n"
          ]
        }
      ]
    },
    {
      "cell_type": "markdown",
      "source": [
        "3. Create a NumPy array 'arr' with a data type of complex128 containing three complex numbers."
      ],
      "metadata": {
        "id": "LohZbSU7kuxt"
      }
    },
    {
      "cell_type": "code",
      "source": [
        "arr = np.array([1+2j, 2+3j, 3+4j], dtype='complex128')"
      ],
      "metadata": {
        "id": "aV0-cU4wkqhC"
      },
      "execution_count": null,
      "outputs": []
    },
    {
      "cell_type": "code",
      "source": [
        "arr"
      ],
      "metadata": {
        "colab": {
          "base_uri": "https://localhost:8080/"
        },
        "id": "C2Ax1RE9lCCH",
        "outputId": "70e67974-7c6e-491d-a7da-3f6a9e23c562"
      },
      "execution_count": null,
      "outputs": [
        {
          "output_type": "execute_result",
          "data": {
            "text/plain": [
              "array([1.+2.j, 2.+3.j, 3.+4.j])"
            ]
          },
          "metadata": {},
          "execution_count": 6
        }
      ]
    },
    {
      "cell_type": "markdown",
      "source": [
        "4. Convert an existing NumPy array 'arr' of integers to float32 data type."
      ],
      "metadata": {
        "id": "3h96DTLtlHYE"
      }
    },
    {
      "cell_type": "code",
      "source": [
        "import numpy as np\n",
        "\n",
        "# Example integer array\n",
        "arr = np.array([1, 2, 3, 4, 5])\n",
        "\n",
        "# Convert to float32\n",
        "arr_float32 = arr.astype(np.float32)\n",
        "\n",
        "print(arr_float32)\n",
        "print(arr_float32.dtype)"
      ],
      "metadata": {
        "colab": {
          "base_uri": "https://localhost:8080/"
        },
        "id": "RJXk0Hia1xOn",
        "outputId": "00b0642c-9820-4cbd-ac33-6cc290ca693c"
      },
      "execution_count": null,
      "outputs": [
        {
          "output_type": "stream",
          "name": "stdout",
          "text": [
            "[1. 2. 3. 4. 5.]\n",
            "float32\n"
          ]
        }
      ]
    },
    {
      "cell_type": "markdown",
      "source": [
        "5. Given a NumPy array 'arr' with float64 data type, convert it to float32 to reduce decimal precision."
      ],
      "metadata": {
        "id": "7WSjMKSD0Q2s"
      }
    },
    {
      "cell_type": "code",
      "source": [
        "import numpy as np\n",
        "\n",
        "# Example float64 array\n",
        "arr = np.array([1.123456789, 2.987654321, 3.141592653589793], dtype=np.float64)\n",
        "\n",
        "# Convert to float32\n",
        "arr_float32 = arr.astype(np.float32)\n",
        "\n",
        "print(\"Original array (float64):\", arr)\n",
        "print(\"Converted array (float32):\", arr_float32)\n",
        "print(\"Data type of converted array:\", arr_float32.dtype)"
      ],
      "metadata": {
        "colab": {
          "base_uri": "https://localhost:8080/"
        },
        "id": "8KLUPLfM2rdg",
        "outputId": "dfa54552-f00f-4b54-dbf2-9c5429b4fd88"
      },
      "execution_count": null,
      "outputs": [
        {
          "output_type": "stream",
          "name": "stdout",
          "text": [
            "Original array (float64): [1.12345679 2.98765432 3.14159265]\n",
            "Converted array (float32): [1.1234568 2.9876542 3.1415927]\n",
            "Data type of converted array: float32\n"
          ]
        }
      ]
    },
    {
      "cell_type": "markdown",
      "source": [
        "6. Write a function array_attributes that takes a NumPy array as input and returns its shape, size, and data\n",
        "type.\n"
      ],
      "metadata": {
        "id": "XrMkUj3W0RXd"
      }
    },
    {
      "cell_type": "code",
      "source": [
        "import numpy as np\n",
        "\n",
        "def array_attributes(arr):\n",
        "    \"\"\"\n",
        "    Takes a NumPy array as input and returns its shape, size, and data type.\n",
        "\n",
        "    Parameters:\n",
        "        arr (numpy.ndarray): Input NumPy array.\n",
        "\n",
        "    Returns:\n",
        "        tuple: A tuple containing the shape, size, and data type of the array.\n",
        "    \"\"\"\n",
        "    return arr.shape, arr.size, arr.dtype\n",
        "\n",
        "# Example usage\n",
        "example_array = np.array([[1, 2, 3], [4, 5, 6]])\n",
        "attributes = array_attributes(example_array)\n",
        "print(f\"Shape: {attributes[0]}, Size: {attributes[1]}, Data type: {attributes[2]}\")"
      ],
      "metadata": {
        "colab": {
          "base_uri": "https://localhost:8080/"
        },
        "id": "ivDPGlT13Eib",
        "outputId": "f40a002b-4e38-44d9-cfe8-a726a96e2a77"
      },
      "execution_count": null,
      "outputs": [
        {
          "output_type": "stream",
          "name": "stdout",
          "text": [
            "Shape: (2, 3), Size: 6, Data type: int64\n"
          ]
        }
      ]
    },
    {
      "cell_type": "markdown",
      "source": [
        "7. Create a function array_dimension that takes a NumPy array as input and returns its dimensionality"
      ],
      "metadata": {
        "id": "ZGwfdk7A0g75"
      }
    },
    {
      "cell_type": "code",
      "source": [
        "import numpy as np\n",
        "\n",
        "def array_dimension(arr):\n",
        "    \"\"\"\n",
        "    Takes a NumPy array as input and returns its dimensionality.\n",
        "\n",
        "    Parameters:\n",
        "        arr (numpy.ndarray): Input NumPy array.\n",
        "\n",
        "    Returns:\n",
        "        int: The number of dimensions (dimensionality) of the array.\n",
        "    \"\"\"\n",
        "    return arr.ndim\n",
        "\n",
        "# Example usage\n",
        "example_array = np.array([[1, 2, 3], [4, 5, 6]])\n",
        "dimension = array_dimension(example_array)\n",
        "print(f\"Dimensionality: {dimension}\")"
      ],
      "metadata": {
        "colab": {
          "base_uri": "https://localhost:8080/"
        },
        "id": "ldEmFXJg3aED",
        "outputId": "92bdda5f-de23-44e8-cd0d-70f5359b8628"
      },
      "execution_count": null,
      "outputs": [
        {
          "output_type": "stream",
          "name": "stdout",
          "text": [
            "Dimensionality: 2\n"
          ]
        }
      ]
    },
    {
      "cell_type": "markdown",
      "source": [
        "8. Design a function item_size_info that takes a NumPy array as input and returns the item size and the total\n",
        "size in bytes."
      ],
      "metadata": {
        "id": "J3QJL6CL0hKs"
      }
    },
    {
      "cell_type": "code",
      "source": [
        "import numpy as np\n",
        "\n",
        "def item_size_info(arr):\n",
        "    \"\"\"\n",
        "    Takes a NumPy array as input and returns the item size and the total size in bytes.\n",
        "\n",
        "    Parameters:\n",
        "        arr (numpy.ndarray): Input NumPy array.\n",
        "\n",
        "    Returns:\n",
        "        tuple: A tuple containing the item size (in bytes) and the total size (in bytes).\n",
        "    \"\"\"\n",
        "    return arr.itemsize, arr.nbytes\n",
        "\n",
        "# Example usage\n",
        "example_array = np.array([[1, 2, 3], [4, 5, 6]], dtype=np.int32)\n",
        "item_size, total_size = item_size_info(example_array)\n",
        "print(f\"Item size: {item_size} bytes, Total size: {total_size} bytes\")"
      ],
      "metadata": {
        "colab": {
          "base_uri": "https://localhost:8080/"
        },
        "id": "3aVA2HdI3lCw",
        "outputId": "3e567145-aee3-4c97-88f7-5534c03bdaf9"
      },
      "execution_count": null,
      "outputs": [
        {
          "output_type": "stream",
          "name": "stdout",
          "text": [
            "Item size: 4 bytes, Total size: 24 bytes\n"
          ]
        }
      ]
    },
    {
      "cell_type": "markdown",
      "source": [
        "9. Create a function array_strides that takes a NumPy array as input and returns the strides of the array."
      ],
      "metadata": {
        "id": "NMSbyRdD0hO2"
      }
    },
    {
      "cell_type": "code",
      "source": [
        "import numpy as np\n",
        "\n",
        "def array_strides(arr):\n",
        "    \"\"\"\n",
        "    Takes a NumPy array as input and returns its strides.\n",
        "\n",
        "    Parameters:\n",
        "        arr (numpy.ndarray): Input NumPy array.\n",
        "\n",
        "    Returns:\n",
        "        tuple: A tuple containing the strides of the array.\n",
        "    \"\"\"\n",
        "    return arr.strides\n",
        "\n",
        "# Example usage\n",
        "example_array = np.array([[1, 2, 3], [4, 5, 6]])\n",
        "strides = array_strides(example_array)\n",
        "print(f\"Strides: {strides}\")"
      ],
      "metadata": {
        "colab": {
          "base_uri": "https://localhost:8080/"
        },
        "id": "k6G151Uy37Kl",
        "outputId": "62ec5a39-e005-4022-8e6a-b3a1fec3adba"
      },
      "execution_count": null,
      "outputs": [
        {
          "output_type": "stream",
          "name": "stdout",
          "text": [
            "Strides: (24, 8)\n"
          ]
        }
      ]
    },
    {
      "cell_type": "markdown",
      "source": [
        "10. Design a function shape_stride_relationship that takes a NumPy array as input and returns the shape\n",
        "and strides of the array."
      ],
      "metadata": {
        "id": "Ax3NEhfY02wX"
      }
    },
    {
      "cell_type": "code",
      "source": [
        "import numpy as np\n",
        "\n",
        "def shape_stride_relationship(arr):\n",
        "    \"\"\"\n",
        "    Takes a NumPy array as input and returns its shape and strides.\n",
        "\n",
        "    Parameters:\n",
        "        arr (numpy.ndarray): Input NumPy array.\n",
        "\n",
        "    Returns:\n",
        "        tuple: A tuple containing the shape and strides of the array.\n",
        "    \"\"\"\n",
        "    return arr.shape, arr.strides\n",
        "\n",
        "# Example usage\n",
        "example_array = np.array([[1, 2, 3], [4, 5, 6]])\n",
        "shape, strides = shape_stride_relationship(example_array)\n",
        "print(f\"Shape: {shape}, Strides: {strides}\")"
      ],
      "metadata": {
        "colab": {
          "base_uri": "https://localhost:8080/"
        },
        "id": "I-8BfWdT4H3q",
        "outputId": "c8a22720-b9df-4cc1-c321-01150dfdc06f"
      },
      "execution_count": null,
      "outputs": [
        {
          "output_type": "stream",
          "name": "stdout",
          "text": [
            "Shape: (2, 3), Strides: (24, 8)\n"
          ]
        }
      ]
    },
    {
      "cell_type": "markdown",
      "source": [
        "11. Create a function `create_zeros_array` that takes an integer `n` as input and returns a NumPy array of\n",
        "zeros with `n` elements."
      ],
      "metadata": {
        "id": "SZM-4LUh02zw"
      }
    },
    {
      "cell_type": "code",
      "source": [
        "import numpy as np\n",
        "\n",
        "def create_zeros_array(n):\n",
        "    \"\"\"\n",
        "    Creates a NumPy array of zeros with n elements.\n",
        "\n",
        "    Parameters:\n",
        "        n (int): Number of elements in the array.\n",
        "\n",
        "    Returns:\n",
        "        numpy.ndarray: A NumPy array of zeros with n elements.\n",
        "    \"\"\"\n",
        "    return np.zeros(n)\n",
        "\n",
        "# Example usage\n",
        "zeros_array = create_zeros_array(5)\n",
        "print(zeros_array)"
      ],
      "metadata": {
        "colab": {
          "base_uri": "https://localhost:8080/"
        },
        "id": "3u-LPOyj4O7C",
        "outputId": "acaaea95-7e10-4dbc-9f20-84b7cf82a714"
      },
      "execution_count": null,
      "outputs": [
        {
          "output_type": "stream",
          "name": "stdout",
          "text": [
            "[0. 0. 0. 0. 0.]\n"
          ]
        }
      ]
    },
    {
      "cell_type": "markdown",
      "source": [
        "12. Write a function `create_ones_matrix` that takes integers `rows` and `cols` as inputs and generates a 2D\n",
        "NumPy array filled with ones of size `rows x cols`."
      ],
      "metadata": {
        "id": "2RR5QTGk023Q"
      }
    },
    {
      "cell_type": "code",
      "source": [
        "import numpy as np\n",
        "\n",
        "def create_ones_matrix(rows, cols):\n",
        "    \"\"\"\n",
        "    Creates a 2D NumPy array filled with ones of size rows x cols.\n",
        "\n",
        "    Parameters:\n",
        "        rows (int): Number of rows in the matrix.\n",
        "        cols (int): Number of columns in the matrix.\n",
        "\n",
        "    Returns:\n",
        "        numpy.ndarray: A 2D NumPy array filled with ones.\n",
        "    \"\"\"\n",
        "    return np.ones((rows, cols))\n",
        "\n",
        "# Example usage\n",
        "ones_matrix = create_ones_matrix(3, 4)\n",
        "print(ones_matrix)"
      ],
      "metadata": {
        "colab": {
          "base_uri": "https://localhost:8080/"
        },
        "id": "Uc65ju1H4N6O",
        "outputId": "3a382a87-7a72-436a-965c-539662343ac7"
      },
      "execution_count": null,
      "outputs": [
        {
          "output_type": "stream",
          "name": "stdout",
          "text": [
            "[[1. 1. 1. 1.]\n",
            " [1. 1. 1. 1.]\n",
            " [1. 1. 1. 1.]]\n"
          ]
        }
      ]
    },
    {
      "cell_type": "markdown",
      "source": [
        "13. Write a function `generate_range_array` that takes three integers start, stop, and step as arguments and\n",
        "creates a NumPy array with a range starting from `start`, ending at stop (exclusive), and with the specified\n",
        "`step"
      ],
      "metadata": {
        "id": "tsO5mGoc026q"
      }
    },
    {
      "cell_type": "code",
      "source": [
        "import numpy as np\n",
        "\n",
        "def generate_range_array(start, stop, step):\n",
        "    \"\"\"\n",
        "    Creates a NumPy array with a range starting from start, ending at stop (exclusive),\n",
        "    and with the specified step.\n",
        "\n",
        "    Parameters:\n",
        "        start (int): The starting value of the range.\n",
        "        stop (int): The stopping value of the range (exclusive).\n",
        "        step (int): The step size between consecutive values.\n",
        "\n",
        "    Returns:\n",
        "        numpy.ndarray: A NumPy array containing the generated range.\n",
        "    \"\"\"\n",
        "    return np.arange(start, stop, step)\n",
        "\n",
        "# Example usage\n",
        "range_array = generate_range_array(0, 10, 2)\n",
        "print(range_array)"
      ],
      "metadata": {
        "id": "vcfN5X62lDbd",
        "colab": {
          "base_uri": "https://localhost:8080/"
        },
        "outputId": "bfca2f7b-aa64-4824-dbcc-8e4064122681"
      },
      "execution_count": null,
      "outputs": [
        {
          "output_type": "stream",
          "name": "stdout",
          "text": [
            "[0 2 4 6 8]\n"
          ]
        }
      ]
    },
    {
      "cell_type": "markdown",
      "source": [
        "14. Design a function `generate_linear_space` that takes two floats `start`, `stop`, and an integer `num` as\n",
        "arguments and generates a NumPy array with num equally spaced values between `start` and `stop`\n",
        "(inclusive)."
      ],
      "metadata": {
        "id": "P0hH2onw41g2"
      }
    },
    {
      "cell_type": "code",
      "source": [
        "import numpy as np\n",
        "\n",
        "def generate_linear_space(start, stop, num):\n",
        "    \"\"\"\n",
        "    Generates a NumPy array with num equally spaced values between start and stop (inclusive).\n",
        "\n",
        "    Parameters:\n",
        "        start (float): The starting value of the range.\n",
        "        stop (float): The ending value of the range.\n",
        "        num (int): The number of equally spaced values to generate.\n",
        "\n",
        "    Returns:\n",
        "        numpy.ndarray: A NumPy array with num equally spaced values between start and stop.\n",
        "    \"\"\"\n",
        "    return np.linspace(start, stop, num)\n",
        "\n",
        "# Example usage\n",
        "linear_space = generate_linear_space(0, 1, 5)\n",
        "print(linear_space)"
      ],
      "metadata": {
        "colab": {
          "base_uri": "https://localhost:8080/"
        },
        "id": "ka0o9kTZ4ykj",
        "outputId": "29a41b79-e36b-4407-b790-3f7be6fb6014"
      },
      "execution_count": null,
      "outputs": [
        {
          "output_type": "stream",
          "name": "stdout",
          "text": [
            "[0.   0.25 0.5  0.75 1.  ]\n"
          ]
        }
      ]
    },
    {
      "cell_type": "markdown",
      "source": [
        "15. Create a function `create_identity_matrix` that takes an integer `n` as input and generates a square\n",
        "identity matrix of size `n x n` using `numpy.eye"
      ],
      "metadata": {
        "id": "yzettGG740sO"
      }
    },
    {
      "cell_type": "code",
      "source": [
        "import numpy as np\n",
        "\n",
        "def create_identity_matrix(n):\n",
        "    \"\"\"\n",
        "    Creates a square identity matrix of size n x n.\n",
        "\n",
        "    Parameters:\n",
        "        n (int): The size of the identity matrix.\n",
        "\n",
        "    Returns:\n",
        "        numpy.ndarray: A square identity matrix of size n x n.\n",
        "    \"\"\"\n",
        "    return np.eye(n)\n",
        "\n",
        "# Example usage\n",
        "identity_matrix = create_identity_matrix(4)\n",
        "print(identity_matrix)"
      ],
      "metadata": {
        "colab": {
          "base_uri": "https://localhost:8080/"
        },
        "id": "UJV0_rKE5MdC",
        "outputId": "5b72747e-f36b-4a17-d1ba-a96ce966a86c"
      },
      "execution_count": null,
      "outputs": [
        {
          "output_type": "stream",
          "name": "stdout",
          "text": [
            "[[1. 0. 0. 0.]\n",
            " [0. 1. 0. 0.]\n",
            " [0. 0. 1. 0.]\n",
            " [0. 0. 0. 1.]]\n"
          ]
        }
      ]
    },
    {
      "cell_type": "markdown",
      "source": [
        "16. Write a function that takes a Python list and converts it into a NumPy array.\n"
      ],
      "metadata": {
        "id": "enpTVqXQ5WXj"
      }
    },
    {
      "cell_type": "code",
      "source": [
        "import numpy as np\n",
        "\n",
        "def list_to_numpy_array(py_list):\n",
        "    \"\"\"\n",
        "    Converts a Python list into a NumPy array.\n",
        "\n",
        "    Parameters:\n",
        "        py_list (list): The Python list to convert.\n",
        "\n",
        "    Returns:\n",
        "        numpy.ndarray: The converted NumPy array.\n",
        "    \"\"\"\n",
        "    return np.array(py_list)\n",
        "\n",
        "# Example usage:\n",
        "python_list = [1, 2, 3, 4, 5]\n",
        "numpy_array = list_to_numpy_array(python_list)\n",
        "print(\"NumPy Array:\", numpy_array)"
      ],
      "metadata": {
        "id": "9toVzLXo5Udx",
        "colab": {
          "base_uri": "https://localhost:8080/"
        },
        "outputId": "fde2fb9e-329e-40d4-9bfc-d1142d9c6310"
      },
      "execution_count": null,
      "outputs": [
        {
          "output_type": "stream",
          "name": "stdout",
          "text": [
            "NumPy Array: [1 2 3 4 5]\n"
          ]
        }
      ]
    },
    {
      "cell_type": "markdown",
      "source": [
        "17. Create a NumPy array and demonstrate the use of `numpy.view` to create a new array object with the\n",
        "same data.\n"
      ],
      "metadata": {
        "id": "85OS7B9P8-zW"
      }
    },
    {
      "cell_type": "code",
      "source": [
        "import numpy as np\n",
        "\n",
        "# Create a NumPy array\n",
        "original_array = np.array([1, 2, 3, 4, 5])\n",
        "\n",
        "# Create a new view of the original array\n",
        "view_array = original_array.view()\n",
        "\n",
        "# Modify the view and observe the effect on the original array\n",
        "print(\"Original Array:\", original_array)\n",
        "print(\"View Array:\", view_array)\n",
        "\n",
        "# Changing a value in the view\n",
        "view_array[0] = 99\n",
        "print(\"\\nAfter modifying the view:\")\n",
        "print(\"Original Array:\", original_array)\n",
        "print(\"View Array:\", view_array)\n",
        "\n",
        "# Check if they share the same memory\n",
        "print(\"\\nDo the arrays share the same memory? \", original_array.base is None)\n",
        "print(\"View's base is Original Array? \", view_array.base is original_array)"
      ],
      "metadata": {
        "colab": {
          "base_uri": "https://localhost:8080/"
        },
        "id": "SnVHyGD287ow",
        "outputId": "16a64f25-457a-4e02-98b2-28ba3fec9ed5"
      },
      "execution_count": null,
      "outputs": [
        {
          "output_type": "stream",
          "name": "stdout",
          "text": [
            "Original Array: [1 2 3 4 5]\n",
            "View Array: [1 2 3 4 5]\n",
            "\n",
            "After modifying the view:\n",
            "Original Array: [99  2  3  4  5]\n",
            "View Array: [99  2  3  4  5]\n",
            "\n",
            "Do the arrays share the same memory?  True\n",
            "View's base is Original Array?  True\n"
          ]
        }
      ]
    },
    {
      "cell_type": "markdown",
      "source": [
        "18. Write a function that takes two NumPy arrays and concatenates them along a specified axis."
      ],
      "metadata": {
        "id": "bM7YBs1v-J8k"
      }
    },
    {
      "cell_type": "code",
      "source": [
        "import numpy as np\n",
        "\n",
        "def concatenate_arrays(array1, array2, axis=0):\n",
        "    \"\"\"\n",
        "    Concatenates two NumPy arrays along a specified axis.\n",
        "\n",
        "    Parameters:\n",
        "        array1 (numpy.ndarray): The first NumPy array.\n",
        "        array2 (numpy.ndarray): The second NumPy array.\n",
        "        axis (int): The axis along which to concatenate. Default is 0.\n",
        "\n",
        "    Returns:\n",
        "        numpy.ndarray: The concatenated NumPy array.\n",
        "\n",
        "    Raises:\n",
        "        ValueError: If the arrays cannot be concatenated along the specified axis.\n",
        "    \"\"\"\n",
        "    try:\n",
        "        return np.concatenate((array1, array2), axis=axis)\n",
        "    except ValueError as e:\n",
        "        raise ValueError(f\"Cannot concatenate arrays along axis {axis}: {e}\")\n",
        "\n",
        "# Example usage\n",
        "array1 = np.array([[1, 2], [3, 4]])\n",
        "array2 = np.array([[5, 6], [7, 8]])\n",
        "\n",
        "# Concatenate along axis 0 (rows)\n",
        "result_axis_0 = concatenate_arrays(array1, array2, axis=0)\n",
        "print(\"Concatenated along axis 0:\\n\", result_axis_0)\n",
        "\n",
        "# Concatenate along axis 1 (columns)\n",
        "result_axis_1 = concatenate_arrays(array1, array2, axis=1)\n",
        "print(\"\\nConcatenated along axis 1:\\n\", result_axis_1)"
      ],
      "metadata": {
        "colab": {
          "base_uri": "https://localhost:8080/"
        },
        "id": "MeShOJj59Tz4",
        "outputId": "d3532e12-2ebc-4d89-85ca-7d6136143901"
      },
      "execution_count": null,
      "outputs": [
        {
          "output_type": "stream",
          "name": "stdout",
          "text": [
            "Concatenated along axis 0:\n",
            " [[1 2]\n",
            " [3 4]\n",
            " [5 6]\n",
            " [7 8]]\n",
            "\n",
            "Concatenated along axis 1:\n",
            " [[1 2 5 6]\n",
            " [3 4 7 8]]\n"
          ]
        }
      ]
    },
    {
      "cell_type": "markdown",
      "source": [
        "19. Create two NumPy arrays with different shapes and concatenate them horizontally using `numpy.\n",
        "\n",
        "concatenate`."
      ],
      "metadata": {
        "id": "LvBA9lXg-LVE"
      }
    },
    {
      "cell_type": "code",
      "source": [
        "import numpy as np\n",
        "\n",
        "# Create two NumPy arrays with different shapes\n",
        "array1 = np.array([[1, 2], [3, 4]])  # Shape: (2, 2)\n",
        "array2 = np.array([[5], [6]])        # Shape: (2, 1)\n",
        "\n",
        "# Concatenate them horizontally\n",
        "concatenated_array = np.concatenate((array1, array2), axis=1)\n",
        "\n",
        "print(\"Array 1:\\n\", array1)\n",
        "print(\"\\nArray 2:\\n\", array2)\n",
        "print(\"\\nConcatenated Array:\\n\", concatenated_array)"
      ],
      "metadata": {
        "id": "fI1EPu9t-LpW",
        "colab": {
          "base_uri": "https://localhost:8080/"
        },
        "outputId": "5694d5ed-b9d8-475d-a869-19e52cc2472b"
      },
      "execution_count": null,
      "outputs": [
        {
          "output_type": "stream",
          "name": "stdout",
          "text": [
            "Array 1:\n",
            " [[1 2]\n",
            " [3 4]]\n",
            "\n",
            "Array 2:\n",
            " [[5]\n",
            " [6]]\n",
            "\n",
            "Concatenated Array:\n",
            " [[1 2 5]\n",
            " [3 4 6]]\n"
          ]
        }
      ]
    },
    {
      "cell_type": "markdown",
      "source": [
        "20. Write a function that vertically stacks multiple NumPy arrays given as a list."
      ],
      "metadata": {
        "id": "mk4EOe_2-L7s"
      }
    },
    {
      "cell_type": "code",
      "source": [
        "import numpy as np\n",
        "\n",
        "def vertical_stack_arrays(array_list):\n",
        "    \"\"\"\n",
        "    Vertically stacks multiple NumPy arrays provided in a list.\n",
        "\n",
        "    Parameters:\n",
        "        array_list (list of numpy.ndarray): A list of NumPy arrays to stack.\n",
        "\n",
        "    Returns:\n",
        "        numpy.ndarray: The vertically stacked array.\n",
        "\n",
        "    Raises:\n",
        "        ValueError: If the arrays have mismatched column sizes.\n",
        "    \"\"\"\n",
        "    try:\n",
        "        return np.vstack(array_list)\n",
        "    except ValueError as e:\n",
        "        raise ValueError(f\"Cannot vertically stack arrays: {e}\")\n",
        "\n",
        "# Example usage\n",
        "array1 = np.array([[1, 2], [3, 4]])  # Shape: (2, 2)\n",
        "array2 = np.array([[5, 6]])          # Shape: (1, 2)\n",
        "array3 = np.array([[7, 8], [9, 10]]) # Shape: (2, 2)\n",
        "\n",
        "# Vertically stack the arrays\n",
        "stacked_array = vertical_stack_arrays([array1, array2, array3])\n",
        "print(\"Vertically Stacked Array:\\n\", stacked_array)"
      ],
      "metadata": {
        "id": "op4NM2MU-MNS",
        "colab": {
          "base_uri": "https://localhost:8080/"
        },
        "outputId": "e992cba0-877b-45ad-b59c-115bd1a8d4a5"
      },
      "execution_count": null,
      "outputs": [
        {
          "output_type": "stream",
          "name": "stdout",
          "text": [
            "Vertically Stacked Array:\n",
            " [[ 1  2]\n",
            " [ 3  4]\n",
            " [ 5  6]\n",
            " [ 7  8]\n",
            " [ 9 10]]\n"
          ]
        }
      ]
    },
    {
      "cell_type": "markdown",
      "source": [
        "21. Write a Python function using NumPy to create an array of integers within a specified range (inclusive)\n",
        "with a given step size."
      ],
      "metadata": {
        "id": "w02afK1o-MfG"
      }
    },
    {
      "cell_type": "code",
      "source": [
        "import numpy as np\n",
        "\n",
        "def create_array_with_step(start, end, step):\n",
        "    \"\"\"\n",
        "    Creates a NumPy array of integers within a specified range (inclusive)\n",
        "    with a given step size.\n",
        "\n",
        "    Parameters:\n",
        "        start (int): The starting value of the range.\n",
        "        end (int): The ending value of the range (inclusive).\n",
        "        step (int): The step size between consecutive elements.\n",
        "\n",
        "    Returns:\n",
        "        numpy.ndarray: The resulting array of integers.\n",
        "    \"\"\"\n",
        "    return np.arange(start, end + 1, step)\n",
        "\n",
        "# Example usage\n",
        "array = create_array_with_step(1, 10, 2)\n",
        "print(\"Array:\", array)"
      ],
      "metadata": {
        "id": "F5H3KqwM-Myi",
        "colab": {
          "base_uri": "https://localhost:8080/"
        },
        "outputId": "b0aaa88d-df5f-40af-d5ab-60d47e8dcdbb"
      },
      "execution_count": null,
      "outputs": [
        {
          "output_type": "stream",
          "name": "stdout",
          "text": [
            "Array: [1 3 5 7 9]\n"
          ]
        }
      ]
    },
    {
      "cell_type": "markdown",
      "source": [
        "22. Write a Python function using NumPy to generate an array of 10 equally spaced values between 0 and 1\n",
        "(inclusive)."
      ],
      "metadata": {
        "id": "Dda28l9l-ND-"
      }
    },
    {
      "cell_type": "code",
      "source": [
        "import numpy as np\n",
        "\n",
        "def generate_equally_spaced_values():\n",
        "    \"\"\"\n",
        "    Generates an array of 10 equally spaced values between 0 and 1 (inclusive).\n",
        "\n",
        "    Returns:\n",
        "        numpy.ndarray: The resulting array of equally spaced values.\n",
        "    \"\"\"\n",
        "    return np.linspace(0, 1, 10)\n",
        "\n",
        "# Example usage\n",
        "array = generate_equally_spaced_values()\n",
        "print(\"Array of equally spaced values:\", array)"
      ],
      "metadata": {
        "id": "Y09hhNrE-NWb",
        "colab": {
          "base_uri": "https://localhost:8080/"
        },
        "outputId": "13ac8d29-48b5-42db-9eb7-0fadeb9329c0"
      },
      "execution_count": null,
      "outputs": [
        {
          "output_type": "stream",
          "name": "stdout",
          "text": [
            "Array of equally spaced values: [0.         0.11111111 0.22222222 0.33333333 0.44444444 0.55555556\n",
            " 0.66666667 0.77777778 0.88888889 1.        ]\n"
          ]
        }
      ]
    },
    {
      "cell_type": "markdown",
      "source": [
        "23. Write a Python function using NumPy to create an array of 5 logarithmically spaced values between 1 and\n",
        "1000 (inclusive)."
      ],
      "metadata": {
        "id": "wfquTOBC-Noe"
      }
    },
    {
      "cell_type": "code",
      "source": [
        "import numpy as np\n",
        "\n",
        "def generate_logarithmically_spaced_values():\n",
        "    \"\"\"\n",
        "    Generates an array of 5 logarithmically spaced values between 1 and 1000 (inclusive).\n",
        "\n",
        "    Returns:\n",
        "        numpy.ndarray: The resulting array of logarithmically spaced values.\n",
        "    \"\"\"\n",
        "    return np.logspace(0, 3, 5)\n",
        "\n",
        "# Example usage\n",
        "array = generate_logarithmically_spaced_values()\n",
        "print(\"Logarithmically spaced values:\", array)"
      ],
      "metadata": {
        "id": "aHIMDSGN-N9c",
        "colab": {
          "base_uri": "https://localhost:8080/"
        },
        "outputId": "ad2365ab-1a15-4041-fb4e-8d202bc0af3c"
      },
      "execution_count": null,
      "outputs": [
        {
          "output_type": "stream",
          "name": "stdout",
          "text": [
            "Logarithmically spaced values: [   1.            5.62341325   31.6227766   177.827941   1000.        ]\n"
          ]
        }
      ]
    },
    {
      "cell_type": "markdown",
      "source": [
        "24. Create a Pandas DataFrame using a NumPy array that contains 5 rows and 3 columns, where the values\n",
        "are random integers between 1 and 100."
      ],
      "metadata": {
        "id": "FrGRGmeJ-OPM"
      }
    },
    {
      "cell_type": "code",
      "source": [
        "import numpy as np\n",
        "import pandas as pd\n",
        "\n",
        "def create_random_dataframe():\n",
        "    \"\"\"\n",
        "    Creates a Pandas DataFrame with 5 rows and 3 columns, where the values\n",
        "    are random integers between 1 and 100.\n",
        "\n",
        "    Returns:\n",
        "        pandas.DataFrame: The resulting DataFrame.\n",
        "    \"\"\"\n",
        "    # Generate a NumPy array with random integers between 1 and 100\n",
        "    random_array = np.random.randint(1, 101, size=(5, 3))\n",
        "\n",
        "    # Create a DataFrame from the NumPy array\n",
        "    df = pd.DataFrame(random_array, columns=['Column1', 'Column2', 'Column3'])\n",
        "    return df\n",
        "\n",
        "# Example usage\n",
        "random_df = create_random_dataframe()\n",
        "print(random_df)"
      ],
      "metadata": {
        "id": "_ct73Mso-OiK",
        "colab": {
          "base_uri": "https://localhost:8080/"
        },
        "outputId": "a5718a28-d347-47b1-a318-d1ebd6fa1f6d"
      },
      "execution_count": null,
      "outputs": [
        {
          "output_type": "stream",
          "name": "stdout",
          "text": [
            "   Column1  Column2  Column3\n",
            "0       60       32       33\n",
            "1       52       62       57\n",
            "2       48       21       98\n",
            "3       61       27       13\n",
            "4       47       62       59\n"
          ]
        }
      ]
    },
    {
      "cell_type": "markdown",
      "source": [
        "25. Write a function that takes a Pandas DataFrame and replaces all negative values in a specific column\n",
        "with zeros. Use NumPy operations within the Pandas DataFrame."
      ],
      "metadata": {
        "id": "JpxJw0KF-OzP"
      }
    },
    {
      "cell_type": "code",
      "source": [
        "import pandas as pd\n",
        "import numpy as np\n",
        "\n",
        "def replace_negatives_with_zeros(df, column_name):\n",
        "    \"\"\"\n",
        "    Replaces all negative values in a specified column of a Pandas DataFrame with zeros.\n",
        "\n",
        "    Parameters:\n",
        "        df (pandas.DataFrame): The input DataFrame.\n",
        "        column_name (str): The name of the column to modify.\n",
        "\n",
        "    Returns:\n",
        "        pandas.DataFrame: The modified DataFrame with negative values replaced by zeros.\n",
        "    \"\"\"\n",
        "    df[column_name] = np.where(df[column_name] < 0, 0, df[column_name])\n",
        "    return df\n",
        "\n",
        "# Example usage\n",
        "data = {\n",
        "    \"A\": [10, -5, 30, -20],\n",
        "    \"B\": [40, 50, -10, 60]\n",
        "}\n",
        "df = pd.DataFrame(data)\n",
        "print(\"Original DataFrame:\\n\", df)\n",
        "\n",
        "modified_df = replace_negatives_with_zeros(df, \"A\")\n",
        "print(\"\\nModified DataFrame:\\n\", modified_df)"
      ],
      "metadata": {
        "colab": {
          "base_uri": "https://localhost:8080/"
        },
        "id": "RpO0ihrh_9iO",
        "outputId": "ffe0ab9b-ca5a-4445-f957-0448d32039d0"
      },
      "execution_count": null,
      "outputs": [
        {
          "output_type": "stream",
          "name": "stdout",
          "text": [
            "Original DataFrame:\n",
            "     A   B\n",
            "0  10  40\n",
            "1  -5  50\n",
            "2  30 -10\n",
            "3 -20  60\n",
            "\n",
            "Modified DataFrame:\n",
            "     A   B\n",
            "0  10  40\n",
            "1   0  50\n",
            "2  30 -10\n",
            "3   0  60\n"
          ]
        }
      ]
    },
    {
      "cell_type": "markdown",
      "source": [
        "26. Access the 3rd element from the given NumPy array.\n"
      ],
      "metadata": {
        "id": "-vfFklx4AQvM"
      }
    },
    {
      "cell_type": "code",
      "source": [
        "arr = np.array([10, 20, 30, 40, 50])\n",
        "third_element = array[2]\n",
        "\n",
        "print(\"The 3rd element is:\", third_element)\n"
      ],
      "metadata": {
        "colab": {
          "base_uri": "https://localhost:8080/"
        },
        "id": "DXm-_UyfAMUe",
        "outputId": "3266b612-6352-4385-a70b-ef9602ab84e7"
      },
      "execution_count": null,
      "outputs": [
        {
          "output_type": "stream",
          "name": "stdout",
          "text": [
            "The 3rd element is: 31.622776601683793\n"
          ]
        }
      ]
    },
    {
      "cell_type": "markdown",
      "source": [
        "27. Retrieve the element at index (1, 2) from the 2D NumPy array."
      ],
      "metadata": {
        "id": "kleqLujaA1I0"
      }
    },
    {
      "cell_type": "code",
      "source": [
        "import numpy as np\n",
        "\n",
        "# Create a 2D NumPy array\n",
        "array = np.array([[1, 2, 3],\n",
        "                  [4, 5, 6],\n",
        "                  [7, 8, 9]])\n",
        "\n",
        "# Access the element at index (1, 2)\n",
        "element = array[1, 2]\n",
        "\n",
        "print(\"The element at index (1, 2) is:\", element)\n",
        "\n"
      ],
      "metadata": {
        "colab": {
          "base_uri": "https://localhost:8080/"
        },
        "id": "NBel9233Ap70",
        "outputId": "869bbd10-6eef-4a45-81ff-685401f22b42"
      },
      "execution_count": null,
      "outputs": [
        {
          "output_type": "stream",
          "name": "stdout",
          "text": [
            "The element at index (1, 2) is: 6\n"
          ]
        }
      ]
    },
    {
      "cell_type": "markdown",
      "source": [
        "28. Using boolean indexing, extract elements greater than 5 from the given NumPy array."
      ],
      "metadata": {
        "id": "GvNVVNrMCFgM"
      }
    },
    {
      "cell_type": "code",
      "source": [
        "arr = np.array([3, 8, 2, 10, 5, 7])\n",
        "import numpy as np\n",
        "\n",
        "# Given NumPy array\n",
        "arr = np.array([3, 8, 2, 10, 5, 7])\n",
        "\n",
        "# Use boolean indexing to extract elements greater than 5\n",
        "elements_greater_than_5 = arr[arr > 5]\n",
        "\n",
        "print(\"Elements greater than 5:\", elements_greater_than_5)\n"
      ],
      "metadata": {
        "colab": {
          "base_uri": "https://localhost:8080/"
        },
        "id": "YYJuM4DSBKCP",
        "outputId": "20385fea-78ab-4386-e2a1-75d7377be212"
      },
      "execution_count": null,
      "outputs": [
        {
          "output_type": "stream",
          "name": "stdout",
          "text": [
            "Elements greater than 5: [ 8 10  7]\n"
          ]
        }
      ]
    },
    {
      "cell_type": "markdown",
      "source": [
        "29. Perform basic slicing to extract elements from index 2 to 5 (inclusive) from the given NumPy array."
      ],
      "metadata": {
        "id": "hycO5cn6Cb1t"
      }
    },
    {
      "cell_type": "code",
      "source": [
        "arr = np.array([1, 2, 3, 4, 5, 6, 7, 8, 9])\n",
        "import numpy as np\n",
        "\n",
        "# Given NumPy array\n",
        "arr = np.array([1, 2, 3, 4, 5, 6, 7, 8, 9])\n",
        "\n",
        "# Use slicing to extract elements from index 2 to 5 (inclusive)\n",
        "sliced_array = arr[2:6]\n",
        "\n",
        "print(\"Elements from index 2 to 5 (inclusive):\", sliced_array)"
      ],
      "metadata": {
        "colab": {
          "base_uri": "https://localhost:8080/"
        },
        "id": "srrWbPDrCafu",
        "outputId": "862718f8-bc1d-4f54-e089-1f181792f84a"
      },
      "execution_count": null,
      "outputs": [
        {
          "output_type": "stream",
          "name": "stdout",
          "text": [
            "Elements from index 2 to 5 (inclusive): [3 4 5 6]\n"
          ]
        }
      ]
    },
    {
      "cell_type": "markdown",
      "source": [
        "30. Slice the 2D NumPy array to extract the sub-array `[[2, 3], [5, 6]]` from the given array."
      ],
      "metadata": {
        "id": "U3RhtsC6DBOn"
      }
    },
    {
      "cell_type": "code",
      "source": [
        "arr_2d = np.array([[1, 2, 3],\n",
        "                   [4, 5, 6],\n",
        "                   [7, 8, 9]])\n",
        "import numpy as np\n",
        "\n",
        "# Given 2D NumPy array\n",
        "arr_2d = np.array([[1, 2, 3],\n",
        "                   [4, 5, 6],\n",
        "                   [7, 8, 9]])\n",
        "\n",
        "# Slice the array to extract the desired sub-array\n",
        "sub_array = arr_2d[0:2, 1:3]\n",
        "\n",
        "print(\"Extracted sub-array:\\n\", sub_array)"
      ],
      "metadata": {
        "colab": {
          "base_uri": "https://localhost:8080/"
        },
        "id": "ocE3JqdlCvOe",
        "outputId": "52e6f10d-25a8-4bd1-e277-bf19f41f6c56"
      },
      "execution_count": null,
      "outputs": [
        {
          "output_type": "stream",
          "name": "stdout",
          "text": [
            "Extracted sub-array:\n",
            " [[2 3]\n",
            " [5 6]]\n"
          ]
        }
      ]
    },
    {
      "cell_type": "markdown",
      "source": [
        "31.Write a NumPy function to extract elements in specific order from a given 2D array based on indices\n",
        "provided in another array."
      ],
      "metadata": {
        "id": "GjKK6_8EDWyZ"
      }
    },
    {
      "cell_type": "code",
      "source": [
        "import numpy as np\n",
        "\n",
        "def extract_elements_with_indices(arr, indices):\n",
        "    \"\"\"\n",
        "    Extracts elements from a given 2D NumPy array in a specific order based on provided indices.\n",
        "\n",
        "    Parameters:\n",
        "        arr (numpy.ndarray): The input 2D array.\n",
        "        indices (list of tuples): A list of (row, column) tuples indicating the elements to extract.\n",
        "\n",
        "    Returns:\n",
        "        numpy.ndarray: A 1D array of extracted elements.\n",
        "    \"\"\"\n",
        "    rows, cols = zip(*indices)  # Separate the row and column indices\n",
        "    return arr[rows, cols]\n",
        "\n",
        "# Example usage\n",
        "arr_2d = np.array([[1, 2, 3],\n",
        "                   [4, 5, 6],\n",
        "                   [7, 8, 9]])\n",
        "\n",
        "# Indices to extract: [(0, 1), (1, 2), (2, 0)]\n",
        "indices = [(0, 1), (1, 2), (2, 0)]\n",
        "result = extract_elements_with_indices(arr_2d, indices)\n",
        "\n",
        "print(\"Extracted elements:\", result)"
      ],
      "metadata": {
        "colab": {
          "base_uri": "https://localhost:8080/"
        },
        "id": "V5_0lp9UDOLK",
        "outputId": "7ddcbf19-eac3-4c15-880b-787297bf73a9"
      },
      "execution_count": null,
      "outputs": [
        {
          "output_type": "stream",
          "name": "stdout",
          "text": [
            "Extracted elements: [2 6 7]\n"
          ]
        }
      ]
    },
    {
      "cell_type": "markdown",
      "source": [
        "32. Create a NumPy function that filters elements greater than a threshold from a given 1D array using\n",
        "boolean indexing"
      ],
      "metadata": {
        "id": "O1uBOgN3Dml_"
      }
    },
    {
      "cell_type": "code",
      "source": [
        "import numpy as np\n",
        "\n",
        "def filter_greater_than_threshold(arr, threshold):\n",
        "    \"\"\"\n",
        "    Filters elements greater than a specified threshold from a 1D NumPy array.\n",
        "\n",
        "    Parameters:\n",
        "        arr (numpy.ndarray): The input 1D array.\n",
        "        threshold (float): The threshold value.\n",
        "\n",
        "    Returns:\n",
        "        numpy.ndarray: A new array with elements greater than the threshold.\n",
        "    \"\"\"\n",
        "    return arr[arr > threshold]\n",
        "\n",
        "# Example usage\n",
        "array = np.array([1, 5, 8, 3, 10, 7])\n",
        "threshold = 5\n",
        "\n",
        "filtered_array = filter_greater_than_threshold(array, threshold)\n",
        "print(\"Filtered elements greater than\", threshold, \":\", filtered_array)"
      ],
      "metadata": {
        "colab": {
          "base_uri": "https://localhost:8080/"
        },
        "id": "_ifUA-jNDhSx",
        "outputId": "6136358b-81d6-4444-cbb9-77257ab96e6c"
      },
      "execution_count": null,
      "outputs": [
        {
          "output_type": "stream",
          "name": "stdout",
          "text": [
            "Filtered elements greater than 5 : [ 8 10  7]\n"
          ]
        }
      ]
    },
    {
      "cell_type": "markdown",
      "source": [
        "33. Develop a NumPy function that extracts specific elements from a 3D array using indices provided in three\n",
        "separate arrays for each dimension."
      ],
      "metadata": {
        "id": "gF8mw-ziDy-v"
      }
    },
    {
      "cell_type": "code",
      "source": [
        "import numpy as np\n",
        "\n",
        "def extract_elements_3d(array, indices_x, indices_y, indices_z):\n",
        "    \"\"\"\n",
        "    Extracts specific elements from a 3D NumPy array using separate indices for each dimension.\n",
        "\n",
        "    Parameters:\n",
        "        array (numpy.ndarray): The input 3D array.\n",
        "        indices_x (array-like): Indices for the first dimension (axis 0).\n",
        "        indices_y (array-like): Indices for the second dimension (axis 1).\n",
        "        indices_z (array-like): Indices for the third dimension (axis 2).\n",
        "\n",
        "    Returns:\n",
        "        numpy.ndarray: A 1D array of extracted elements.\n",
        "    \"\"\"\n",
        "    return array[indices_x, indices_y, indices_z]\n",
        "\n",
        "# Example usage\n",
        "array_3d = np.array([[[1, 2, 3],\n",
        "                      [4, 5, 6],\n",
        "                      [7, 8, 9]],\n",
        "                     [[10, 11, 12],\n",
        "                      [13, 14, 15],\n",
        "                      [16, 17, 18]],\n",
        "                     [[19, 20, 21],\n",
        "                      [22, 23, 24],\n",
        "                      [25, 26, 27]]])\n",
        "\n",
        "# Indices for each dimension\n",
        "indices_x = [0, 1, 2]\n",
        "indices_y = [1, 2, 0]\n",
        "indices_z = [2, 1, 0]\n",
        "\n",
        "extracted_elements = extract_elements_3d(array_3d, indices_x, indices_y, indices_z)\n",
        "print(\"Extracted elements:\", extracted_elements)"
      ],
      "metadata": {
        "colab": {
          "base_uri": "https://localhost:8080/"
        },
        "id": "fhRPvqn6Dx67",
        "outputId": "aa0e8988-8f71-41b2-ee53-3fdf45dc9b01"
      },
      "execution_count": null,
      "outputs": [
        {
          "output_type": "stream",
          "name": "stdout",
          "text": [
            "Extracted elements: [ 6 17 19]\n"
          ]
        }
      ]
    },
    {
      "cell_type": "markdown",
      "source": [
        "34. Write a NumPy function that returns elements from an array where both two conditions are satisfied\n",
        "using boolean indexing."
      ],
      "metadata": {
        "id": "NQooOxxiEc2f"
      }
    },
    {
      "cell_type": "code",
      "source": [
        "import numpy as np\n",
        "\n",
        "def filter_elements_with_conditions(arr, condition1, condition2):\n",
        "    \"\"\"\n",
        "    Filters elements from a 1D NumPy array where both conditions are satisfied.\n",
        "\n",
        "    Parameters:\n",
        "        arr (numpy.ndarray): The input 1D array.\n",
        "        condition1 (callable): A function defining the first condition (e.g., lambda x: x > 5).\n",
        "        condition2 (callable): A function defining the second condition (e.g., lambda x: x < 10).\n",
        "\n",
        "    Returns:\n",
        "        numpy.ndarray: A new array containing elements that satisfy both conditions.\n",
        "    \"\"\"\n",
        "    # Apply both conditions using boolean indexing\n",
        "    return arr[condition1(arr) & condition2(arr)]\n",
        "\n",
        "# Example usage\n",
        "array = np.array([1, 3, 5, 7, 9, 11, 13])\n",
        "condition1 = lambda x: x > 5\n",
        "condition2 = lambda x: x < 10\n",
        "\n",
        "filtered_elements = filter_elements_with_conditions(array, condition1, condition2)\n",
        "print(\"Filtered elements:\", filtered_elements)"
      ],
      "metadata": {
        "colab": {
          "base_uri": "https://localhost:8080/"
        },
        "id": "EjJ4YZpcEb4U",
        "outputId": "90d91ebe-9584-40ca-8675-375679d0ace5"
      },
      "execution_count": null,
      "outputs": [
        {
          "output_type": "stream",
          "name": "stdout",
          "text": [
            "Filtered elements: [7 9]\n"
          ]
        }
      ]
    },
    {
      "cell_type": "markdown",
      "source": [
        "35. Create a NumPy function that extracts elements from a 2D array using row and column indices provided\n",
        "in separate arrays.\n"
      ],
      "metadata": {
        "id": "uQAtaxREEvSJ"
      }
    },
    {
      "cell_type": "code",
      "source": [
        "import numpy as np\n",
        "\n",
        "def extract_elements_2d(array, row_indices, col_indices):\n",
        "    \"\"\"\n",
        "    Extracts elements from a 2D NumPy array using row and column indices.\n",
        "\n",
        "    Parameters:\n",
        "        array (numpy.ndarray): The input 2D array.\n",
        "        row_indices (array-like): Array of row indices.\n",
        "        col_indices (array-like): Array of column indices.\n",
        "\n",
        "    Returns:\n",
        "        numpy.ndarray: A 1D array of extracted elements.\n",
        "    \"\"\"\n",
        "    return array[row_indices, col_indices]\n",
        "\n",
        "# Example usage\n",
        "array_2d = np.array([[10, 20, 30],\n",
        "                     [40, 50, 60],\n",
        "                     [70, 80, 90]])\n",
        "\n",
        "# Indices for rows and columns\n",
        "row_indices = [0, 1, 2]\n",
        "col_indices = [2, 1, 0]\n",
        "\n",
        "# Extract elements\n",
        "extracted_elements = extract_elements_2d(array_2d, row_indices, col_indices)\n",
        "print(\"Extracted elements:\", extracted_elements)"
      ],
      "metadata": {
        "colab": {
          "base_uri": "https://localhost:8080/"
        },
        "id": "FLP-sWJfEtN3",
        "outputId": "ecc716e0-6851-4819-c287-ecb6e4aae9c9"
      },
      "execution_count": null,
      "outputs": [
        {
          "output_type": "stream",
          "name": "stdout",
          "text": [
            "Extracted elements: [30 50 70]\n"
          ]
        }
      ]
    },
    {
      "cell_type": "markdown",
      "source": [
        "36. Given an array arr of shape (3, 3), add a scalar value of 5 to each element using NumPy broadcasting."
      ],
      "metadata": {
        "id": "HoAXel7cE-42"
      }
    },
    {
      "cell_type": "code",
      "source": [
        "import numpy as np\n",
        "\n",
        "# Given array of shape (3, 3)\n",
        "arr = np.array([[1, 2, 3],\n",
        "                [4, 5, 6],\n",
        "                [7, 8, 9]])\n",
        "\n",
        "# Add scalar value of 5 using broadcasting\n",
        "result = arr + 5\n",
        "\n",
        "print(\"Original array:\\n\", arr)\n",
        "print(\"Array after adding 5:\\n\", result)"
      ],
      "metadata": {
        "colab": {
          "base_uri": "https://localhost:8080/"
        },
        "id": "-7kBQJ-oE93u",
        "outputId": "9ace1e5d-f460-474b-c663-e4903246444e"
      },
      "execution_count": null,
      "outputs": [
        {
          "output_type": "stream",
          "name": "stdout",
          "text": [
            "Original array:\n",
            " [[1 2 3]\n",
            " [4 5 6]\n",
            " [7 8 9]]\n",
            "Array after adding 5:\n",
            " [[ 6  7  8]\n",
            " [ 9 10 11]\n",
            " [12 13 14]]\n"
          ]
        }
      ]
    },
    {
      "cell_type": "markdown",
      "source": [
        "37. Consider two arrays arr1 of shape (1, 3) and arr2 of shape (3, 4). Multiply each row of arr2 by the\n",
        "corresponding element in arr1 using NumPy broadcasting."
      ],
      "metadata": {
        "id": "8_17feFVFVVt"
      }
    },
    {
      "cell_type": "code",
      "source": [
        "import numpy as np\n",
        "\n",
        "# Define the arrays\n",
        "arr1 = np.array([[2, 3, 4]])  # Shape (1, 3)\n",
        "arr2 = np.array([[1, 2, 3, 4],\n",
        "                 [5, 6, 7, 8],\n",
        "                 [9, 10, 11, 12]])  # Shape (3, 4)\n",
        "\n",
        "# Multiply each row of arr2 by the corresponding element in arr1 using broadcasting\n",
        "result = arr1.T * arr2\n",
        "\n",
        "print(\"Array arr1:\\n\", arr1)\n",
        "print(\"Array arr2:\\n\", arr2)\n",
        "print(\"Result of broadcasting multiplication:\\n\", result)"
      ],
      "metadata": {
        "colab": {
          "base_uri": "https://localhost:8080/"
        },
        "id": "NX4xp6YkFMpx",
        "outputId": "2122b7f2-9840-4a8c-914c-4aca4add5c12"
      },
      "execution_count": null,
      "outputs": [
        {
          "output_type": "stream",
          "name": "stdout",
          "text": [
            "Array arr1:\n",
            " [[2 3 4]]\n",
            "Array arr2:\n",
            " [[ 1  2  3  4]\n",
            " [ 5  6  7  8]\n",
            " [ 9 10 11 12]]\n",
            "Result of broadcasting multiplication:\n",
            " [[ 2  4  6  8]\n",
            " [15 18 21 24]\n",
            " [36 40 44 48]]\n"
          ]
        }
      ]
    },
    {
      "cell_type": "markdown",
      "source": [
        "38. Given a 1D array arr1 of shape (1, 4) and a 2D array arr2 of shape (4, 3), add arr1 to each row of arr2 using\n",
        "NumPy broadcasting."
      ],
      "metadata": {
        "id": "1r1pO0LwFfzm"
      }
    },
    {
      "cell_type": "code",
      "source": [
        "import numpy as np\n",
        "\n",
        "# Define the arrays\n",
        "arr1 = np.array([[1, 2, 3, 4]])  # Shape (1, 4)\n",
        "arr2 = np.array([[10, 20, 30],\n",
        "                 [40, 50, 60],\n",
        "                 [70, 80, 90],\n",
        "                 [100, 110, 120]])  # Shape (4, 3)\n",
        "\n",
        "# Transpose arr2 to match broadcasting requirements\n",
        "result = arr1.T + arr2\n",
        "\n",
        "print(\"Array arr1:\\n\", arr1)\n",
        "print(\"Array arr2:\\n\", arr2)\n",
        "print(\"Result of broadcasting addition:\\n\", result)"
      ],
      "metadata": {
        "colab": {
          "base_uri": "https://localhost:8080/"
        },
        "id": "a7g63RYiFevt",
        "outputId": "9d38a3b1-a6a7-45d5-ffcb-7e0edebbf3ac"
      },
      "execution_count": null,
      "outputs": [
        {
          "output_type": "stream",
          "name": "stdout",
          "text": [
            "Array arr1:\n",
            " [[1 2 3 4]]\n",
            "Array arr2:\n",
            " [[ 10  20  30]\n",
            " [ 40  50  60]\n",
            " [ 70  80  90]\n",
            " [100 110 120]]\n",
            "Result of broadcasting addition:\n",
            " [[ 11  21  31]\n",
            " [ 42  52  62]\n",
            " [ 73  83  93]\n",
            " [104 114 124]]\n"
          ]
        }
      ]
    },
    {
      "cell_type": "markdown",
      "source": [
        "39. Consider two arrays arr1 of shape (3, 1) and arr2 of shape (1, 3). Add these arrays using NumPy\n",
        "broadcasting."
      ],
      "metadata": {
        "id": "TzN9MjafFzkX"
      }
    },
    {
      "cell_type": "code",
      "source": [
        "import numpy as np\n",
        "\n",
        "# Define the arrays\n",
        "arr1 = np.array([[1],\n",
        "                 [2],\n",
        "                 [3]])  # Shape (3, 1)\n",
        "\n",
        "arr2 = np.array([[10, 20, 30]])  # Shape (1, 3)\n",
        "\n",
        "# Add the arrays using broadcasting\n",
        "result = arr1 + arr2\n",
        "\n",
        "print(\"Array arr1:\\n\", arr1)\n",
        "print(\"Array arr2:\\n\", arr2)\n",
        "print(\"Result of broadcasting addition:\\n\", result)"
      ],
      "metadata": {
        "colab": {
          "base_uri": "https://localhost:8080/"
        },
        "id": "XngvaIOHFuKV",
        "outputId": "15491ccb-c5ee-4974-f7df-aaffa168272a"
      },
      "execution_count": null,
      "outputs": [
        {
          "output_type": "stream",
          "name": "stdout",
          "text": [
            "Array arr1:\n",
            " [[1]\n",
            " [2]\n",
            " [3]]\n",
            "Array arr2:\n",
            " [[10 20 30]]\n",
            "Result of broadcasting addition:\n",
            " [[11 21 31]\n",
            " [12 22 32]\n",
            " [13 23 33]]\n"
          ]
        }
      ]
    },
    {
      "cell_type": "markdown",
      "source": [
        "40. Given arrays arr1 of shape (2, 3) and arr2 of shape (2, 2), perform multiplication using NumPy\n",
        "broadcasting. Handle the shape incompatibility."
      ],
      "metadata": {
        "id": "jrCxycY8F8E5"
      }
    },
    {
      "cell_type": "code",
      "source": [
        "import numpy as np\n",
        "\n",
        "# Define the arrays\n",
        "arr1 = np.array([[1, 2, 3],\n",
        "                 [4, 5, 6]])  # Shape (2, 3)\n",
        "\n",
        "arr2 = np.array([[10, 20],\n",
        "                 [30, 40]])  # Shape (2, 2)\n",
        "\n",
        "# Reshape arr2 to match the shape of arr1 (or vice versa)\n",
        "# Example: Broadcasting arr2 to (2, 3)\n",
        "arr2_reshaped = np.broadcast_to(arr2[:, :1], arr1.shape)  # Reshape arr2 to (2, 3)\n",
        "\n",
        "# Perform element-wise multiplication\n",
        "result = arr1 * arr2_reshaped\n",
        "\n",
        "print(\"Array arr1:\\n\", arr1)\n",
        "print(\"Array arr2 (reshaped):\\n\", arr2_reshaped)\n",
        "print(\"Result of multiplication:\\n\", result)"
      ],
      "metadata": {
        "colab": {
          "base_uri": "https://localhost:8080/"
        },
        "id": "q-K0P_vWF7HN",
        "outputId": "fce02e07-e7e1-4118-d905-6644b3d64603"
      },
      "execution_count": null,
      "outputs": [
        {
          "output_type": "stream",
          "name": "stdout",
          "text": [
            "Array arr1:\n",
            " [[1 2 3]\n",
            " [4 5 6]]\n",
            "Array arr2 (reshaped):\n",
            " [[10 10 10]\n",
            " [30 30 30]]\n",
            "Result of multiplication:\n",
            " [[ 10  20  30]\n",
            " [120 150 180]]\n"
          ]
        }
      ]
    },
    {
      "cell_type": "markdown",
      "source": [
        "41. Calculate column wise mean for the given array:\n",
        "    arr = np.array([[1, 2, 3], [4, 5, 6]])"
      ],
      "metadata": {
        "id": "XCkEGw8fE5rS"
      }
    },
    {
      "cell_type": "code",
      "source": [
        "import numpy as np\n",
        "\n",
        "arr = np.array([[1, 2, 3], [4, 5, 6]])\n",
        "column_mean = np.mean(arr, axis=0)\n",
        "print(column_mean)"
      ],
      "metadata": {
        "id": "MwI1p5yAGJtL",
        "colab": {
          "base_uri": "https://localhost:8080/"
        },
        "outputId": "dfd0e4c9-07dc-49ed-d961-023aa76970a9"
      },
      "execution_count": null,
      "outputs": [
        {
          "output_type": "stream",
          "name": "stdout",
          "text": [
            "[2.5 3.5 4.5]\n"
          ]
        }
      ]
    },
    {
      "cell_type": "markdown",
      "source": [
        "42. Find maximum value in each row of the given array: arr = np.array([[1, 2, 3], [4, 5, 6]])"
      ],
      "metadata": {
        "id": "fazUPyivGgLK"
      }
    },
    {
      "cell_type": "code",
      "source": [
        "import numpy as np\n",
        "\n",
        "arr = np.array([[1, 2, 3], [4, 5, 6]])\n",
        "row_max = np.max(arr, axis=1)\n",
        "print(row_max)\n"
      ],
      "metadata": {
        "colab": {
          "base_uri": "https://localhost:8080/"
        },
        "id": "B7LYaO8nGcIA",
        "outputId": "913337c9-99ec-4add-9822-910052a9fa01"
      },
      "execution_count": null,
      "outputs": [
        {
          "output_type": "stream",
          "name": "stdout",
          "text": [
            "[3 6]\n"
          ]
        }
      ]
    },
    {
      "cell_type": "markdown",
      "source": [
        "43. For the given array, find indices of maximum value in each column. arr = np.array([[1, 2, 3], [4, 5, 6]])"
      ],
      "metadata": {
        "id": "E_cYCEH5HHtn"
      }
    },
    {
      "cell_type": "code",
      "source": [
        "import numpy as np\n",
        "\n",
        "arr = np.array([[1, 2, 3], [4, 5, 6]])\n",
        "column_max_indices = np.argmax(arr, axis=0)\n",
        "print(column_max_indices)"
      ],
      "metadata": {
        "colab": {
          "base_uri": "https://localhost:8080/"
        },
        "id": "3fCZQRUAHFd-",
        "outputId": "0bfc6273-4861-432f-cb86-0df5052c34f9"
      },
      "execution_count": null,
      "outputs": [
        {
          "output_type": "stream",
          "name": "stdout",
          "text": [
            "[1 1 1]\n"
          ]
        }
      ]
    },
    {
      "cell_type": "markdown",
      "source": [
        "44. For the given array, apply custom function to calculate moving sum along rows.arr = np.array([[1, 2, 3], [4, 5, 6]])"
      ],
      "metadata": {
        "id": "f2lOkeWbHyqc"
      }
    },
    {
      "cell_type": "code",
      "source": [
        "import numpy as np\n",
        "\n",
        "# Define the array\n",
        "arr = np.array([[1, 2, 3], [4, 5, 6]])\n",
        "\n",
        "# Define the custom moving sum function\n",
        "def moving_sum_rowwise(arr, window_size):\n",
        "    result = np.array([np.convolve(row, np.ones(window_size, dtype=int), mode='valid') for row in arr])\n",
        "    return result\n",
        "\n",
        "# Apply the function with a window size of 2\n",
        "window_size = 2\n",
        "result = moving_sum_rowwise(arr, window_size)\n",
        "print(result)"
      ],
      "metadata": {
        "colab": {
          "base_uri": "https://localhost:8080/"
        },
        "id": "dmZeCDTRHwde",
        "outputId": "059d72de-e4de-4a69-acd3-dee4b6000b7d"
      },
      "execution_count": null,
      "outputs": [
        {
          "output_type": "stream",
          "name": "stdout",
          "text": [
            "[[ 3  5]\n",
            " [ 9 11]]\n"
          ]
        }
      ]
    },
    {
      "cell_type": "markdown",
      "source": [
        "45. In the given array, check if all elements in each column are even.arr = np.array([[2, 4, 6], [3, 5, 7]])"
      ],
      "metadata": {
        "id": "noNQwIG4IUlC"
      }
    },
    {
      "cell_type": "code",
      "source": [
        "import numpy as np\n",
        "\n",
        "arr = np.array([[2, 4, 6], [3, 5, 7]])\n",
        "\n",
        "# Check if all elements in each column are even\n",
        "all_even_columns = np.all(arr % 2 == 0, axis=0)\n",
        "print(all_even_columns)"
      ],
      "metadata": {
        "colab": {
          "base_uri": "https://localhost:8080/"
        },
        "id": "xGpkt6syIPgY",
        "outputId": "f71d7912-5e99-46aa-e8b8-4b9a7683890e"
      },
      "execution_count": null,
      "outputs": [
        {
          "output_type": "stream",
          "name": "stdout",
          "text": [
            "[False False False]\n"
          ]
        }
      ]
    },
    {
      "cell_type": "markdown",
      "source": [
        "46. Given a NumPy array arr, reshape it into a matrix of dimensions `m` rows and `n` columns. Return the\n",
        "reshaped matrix. original_array = np.array([1, 2, 3, 4, 5, 6])\n",
        "\n",
        "\n",
        "\n",
        "\n"
      ],
      "metadata": {
        "id": "Ib2eLlUKIsB8"
      }
    },
    {
      "cell_type": "code",
      "source": [
        "import numpy as np\n",
        "\n",
        "# Original array\n",
        "original_array = np.array([1, 2, 3, 4, 5, 6])\n",
        "\n",
        "# Desired dimensions\n",
        "m, n = 2, 3\n",
        "\n",
        "# Reshape the array\n",
        "reshaped_matrix = original_array.reshape(m, n)\n",
        "print(reshaped_matrix)"
      ],
      "metadata": {
        "colab": {
          "base_uri": "https://localhost:8080/"
        },
        "id": "LlgYSLBwIqF-",
        "outputId": "d4ec95bc-2684-4c91-8858-c209b5fd4496"
      },
      "execution_count": null,
      "outputs": [
        {
          "output_type": "stream",
          "name": "stdout",
          "text": [
            "[[1 2 3]\n",
            " [4 5 6]]\n"
          ]
        }
      ]
    },
    {
      "cell_type": "markdown",
      "source": [
        "47. Create a function that takes a matrix as input and returns the flattened array.input_matrix = np.array([[1, 2, 3], [4, 5, 6]])\n"
      ],
      "metadata": {
        "id": "oBaZcDkIJKXX"
      }
    },
    {
      "cell_type": "code",
      "source": [
        "import numpy as np\n",
        "\n",
        "# Define the function\n",
        "def flatten_matrix(matrix):\n",
        "    return matrix.flatten()\n",
        "\n",
        "# Input matrix\n",
        "input_matrix = np.array([[1, 2, 3], [4, 5, 6]])\n",
        "\n",
        "# Call the function\n",
        "flattened_array = flatten_matrix(input_matrix)\n",
        "print(flattened_array)"
      ],
      "metadata": {
        "colab": {
          "base_uri": "https://localhost:8080/"
        },
        "id": "lPsQWchqJIQA",
        "outputId": "50ced805-8b2a-40d3-a612-a3b123e7c80f"
      },
      "execution_count": null,
      "outputs": [
        {
          "output_type": "stream",
          "name": "stdout",
          "text": [
            "[1 2 3 4 5 6]\n"
          ]
        }
      ]
    },
    {
      "cell_type": "markdown",
      "source": [
        "48. Write a function that concatenates two given arrays along a specified axis.array1 = np.array([[1, 2], [3, 4]])\n",
        "array2 = np.array([[5, 6], [7, 8]])\n"
      ],
      "metadata": {
        "id": "OWvIjgqHJjG0"
      }
    },
    {
      "cell_type": "code",
      "source": [
        "import numpy as np\n",
        "\n",
        "# Define the function\n",
        "def concatenate_arrays(array1, array2, axis=0):\n",
        "    return np.concatenate((array1, array2), axis=axis)\n",
        "\n",
        "# Input arrays\n",
        "array1 = np.array([[1, 2], [3, 4]])\n",
        "array2 = np.array([[5, 6], [7, 8]])\n",
        "\n",
        "# Call the function\n",
        "concatenated_array = concatenate_arrays(array1, array2, axis=0)  # Change axis as needed\n",
        "print(concatenated_array)"
      ],
      "metadata": {
        "colab": {
          "base_uri": "https://localhost:8080/"
        },
        "id": "JG7VCxpQJhjc",
        "outputId": "f685b300-8201-4a06-8a19-2876363b37a8"
      },
      "execution_count": null,
      "outputs": [
        {
          "output_type": "stream",
          "name": "stdout",
          "text": [
            "[[1 2]\n",
            " [3 4]\n",
            " [5 6]\n",
            " [7 8]]\n"
          ]
        }
      ]
    },
    {
      "cell_type": "markdown",
      "source": [
        "49. Create a function that splits an array into multiple sub-arrays along a specified axis.original_array = np.array([[1, 2, 3], [4, 5, 6], [7, 8, 9]])\n"
      ],
      "metadata": {
        "id": "bj2030g4J9Nv"
      }
    },
    {
      "cell_type": "code",
      "source": [
        "import numpy as np\n",
        "\n",
        "# Define the function\n",
        "def split_array(array, num_splits, axis=0):\n",
        "    return np.array_split(array, num_splits, axis=axis)\n",
        "\n",
        "# Input array\n",
        "original_array = np.array([[1, 2, 3], [4, 5, 6], [7, 8, 9]])\n",
        "\n",
        "# Call the function\n",
        "split_sub_arrays = split_array(original_array, num_splits=3, axis=0)  # Change axis and num_splits as needed\n",
        "for sub_array in split_sub_arrays:\n",
        "    print(sub_array)"
      ],
      "metadata": {
        "colab": {
          "base_uri": "https://localhost:8080/"
        },
        "id": "nSkU6-kGJ7pM",
        "outputId": "afad79da-d7ab-4f11-e5cd-9d1d41c696a0"
      },
      "execution_count": null,
      "outputs": [
        {
          "output_type": "stream",
          "name": "stdout",
          "text": [
            "[[1 2 3]]\n",
            "[[4 5 6]]\n",
            "[[7 8 9]]\n"
          ]
        }
      ]
    },
    {
      "cell_type": "markdown",
      "source": [
        "50. Write a function that inserts and then deletes elements from a given array at specified indices.original_array = np.array([1, 2, 3, 4, 5])\n",
        "indices_to_insert = [2, 4]\n",
        "values_to_insert = [10, 11]\n",
        "indices_to_delete = [1, 3]"
      ],
      "metadata": {
        "id": "rONVQDssKW8t"
      }
    },
    {
      "cell_type": "code",
      "source": [
        "import numpy as np\n",
        "\n",
        "# Define the function\n",
        "def insert_and_delete(array, insert_indices, insert_values, delete_indices):\n",
        "    # Insert elements\n",
        "    array = np.insert(array, insert_indices, insert_values)\n",
        "\n",
        "    # Delete elements\n",
        "    array = np.delete(array, delete_indices)\n",
        "\n",
        "    return array\n",
        "\n",
        "# Input array and indices/values to insert and delete\n",
        "original_array = np.array([1, 2, 3, 4, 5])\n",
        "indices_to_insert = [2, 4]\n",
        "values_to_insert = [10, 11]\n",
        "indices_to_delete = [1, 3]\n",
        "\n",
        "# Call the function\n",
        "result_array = insert_and_delete(original_array, indices_to_insert, values_to_insert, indices_to_delete)\n",
        "print(result_array)"
      ],
      "metadata": {
        "colab": {
          "base_uri": "https://localhost:8080/"
        },
        "id": "VOD-Ds56KUrO",
        "outputId": "06f4a0b8-870e-4470-de43-2f7a24d7c486"
      },
      "execution_count": null,
      "outputs": [
        {
          "output_type": "stream",
          "name": "stdout",
          "text": [
            "[ 1 10  4 11  5]\n"
          ]
        }
      ]
    },
    {
      "cell_type": "markdown",
      "source": [
        "51. Create a NumPy array `arr1` with random integers and another array `arr2` with integers from 1 to 10.\n",
        "Perform element-wise addition between `arr1` and `arr2`."
      ],
      "metadata": {
        "id": "Qtzl20JtKxbD"
      }
    },
    {
      "cell_type": "code",
      "source": [
        "import numpy as np\n",
        "\n",
        "# Create arr1 with random integers (e.g., between 1 and 20) and arr2 with integers from 1 to 10\n",
        "arr1 = np.random.randint(1, 20, size=5)  # Array of random integers with size 5\n",
        "arr2 = np.arange(1, 11)[:5]  # Array with integers from 1 to 10, taking first 5 elements\n",
        "\n",
        "# Perform element-wise addition\n",
        "result = arr1 + arr2\n",
        "\n",
        "print(\"arr1:\", arr1)\n",
        "print(\"arr2:\", arr2)\n",
        "print(\"Element-wise addition result:\", result)"
      ],
      "metadata": {
        "colab": {
          "base_uri": "https://localhost:8080/"
        },
        "id": "sg79HwugKwNN",
        "outputId": "17f55cec-aa34-4913-e2ae-22482271a7e2"
      },
      "execution_count": null,
      "outputs": [
        {
          "output_type": "stream",
          "name": "stdout",
          "text": [
            "arr1: [12 12  2  7  3]\n",
            "arr2: [1 2 3 4 5]\n",
            "Element-wise addition result: [13 14  5 11  8]\n"
          ]
        }
      ]
    },
    {
      "cell_type": "markdown",
      "source": [
        "52. Generate a NumPy array `arr1` with sequential integers from 10 to 1 and another array `arr2` with integers\n",
        "from 1 to 10. Subtract `arr2` from `arr1` element-wise."
      ],
      "metadata": {
        "id": "kNucRdCCLEXO"
      }
    },
    {
      "cell_type": "code",
      "source": [
        "import numpy as np\n",
        "\n",
        "# Generate arr1 with sequential integers from 10 to 1 (descending order)\n",
        "arr1 = np.arange(10, 0, -1)\n",
        "\n",
        "# Generate arr2 with integers from 1 to 10\n",
        "arr2 = np.arange(1, 11)\n",
        "\n",
        "# Perform element-wise subtraction\n",
        "result = arr1 - arr2\n",
        "\n",
        "print(\"arr1:\", arr1)\n",
        "print(\"arr2:\", arr2)\n",
        "print(\"Element-wise subtraction result:\", result)"
      ],
      "metadata": {
        "colab": {
          "base_uri": "https://localhost:8080/"
        },
        "id": "eO7baasQLCeP",
        "outputId": "371f07c2-ac9d-483c-9fe7-d987326586b5"
      },
      "execution_count": null,
      "outputs": [
        {
          "output_type": "stream",
          "name": "stdout",
          "text": [
            "arr1: [10  9  8  7  6  5  4  3  2  1]\n",
            "arr2: [ 1  2  3  4  5  6  7  8  9 10]\n",
            "Element-wise subtraction result: [ 9  7  5  3  1 -1 -3 -5 -7 -9]\n"
          ]
        }
      ]
    },
    {
      "cell_type": "markdown",
      "source": [
        "53. Create a NumPy array `arr1` with random integers and another array `arr2` with integers from 1 to 5.\n",
        "Perform element-wise multiplication between `arr1` and `arr2`."
      ],
      "metadata": {
        "id": "0uXZAC0oLTsY"
      }
    },
    {
      "cell_type": "code",
      "source": [
        "import numpy as np\n",
        "\n",
        "# Create arr1 with random integers (e.g., between 1 and 10) and arr2 with integers from 1 to 5\n",
        "arr1 = np.random.randint(1, 10, size=5)  # Array of random integers with size 5\n",
        "arr2 = np.array([1, 2, 3, 4, 5])  # Array with integers from 1 to 5\n",
        "\n",
        "# Perform element-wise multiplication\n",
        "result = arr1 * arr2\n",
        "\n",
        "print(\"arr1:\", arr1)\n",
        "print(\"arr2:\", arr2)\n",
        "print(\"Element-wise multiplication result:\", result)"
      ],
      "metadata": {
        "colab": {
          "base_uri": "https://localhost:8080/"
        },
        "id": "VVobZMc9LRuo",
        "outputId": "f84f9c77-caba-4efe-9bbb-c2313cab3393"
      },
      "execution_count": null,
      "outputs": [
        {
          "output_type": "stream",
          "name": "stdout",
          "text": [
            "arr1: [5 5 2 5 9]\n",
            "arr2: [1 2 3 4 5]\n",
            "Element-wise multiplication result: [ 5 10  6 20 45]\n"
          ]
        }
      ]
    },
    {
      "cell_type": "markdown",
      "source": [
        "54. Generate a NumPy array `arr1` with even integers from 2 to 10 and another array `arr2` with integers from 1\n",
        "to 5. Perform element-wise division of `arr1` by `arr2`."
      ],
      "metadata": {
        "id": "8l_oOMIjLjXB"
      }
    },
    {
      "cell_type": "code",
      "source": [
        "import numpy as np\n",
        "\n",
        "# Generate arr1 with even integers from 2 to 10\n",
        "arr1 = np.arange(2, 11, 2)  # Even integers from 2 to 10\n",
        "\n",
        "# Generate arr2 with integers from 1 to 5\n",
        "arr2 = np.array([1, 2, 3, 4, 5])\n",
        "\n",
        "# Perform element-wise division\n",
        "result = arr1 / arr2\n",
        "\n",
        "print(\"arr1:\", arr1)\n",
        "print(\"arr2:\", arr2)\n",
        "print(\"Element-wise division result:\", result)"
      ],
      "metadata": {
        "colab": {
          "base_uri": "https://localhost:8080/"
        },
        "id": "5jqVUYYdLh8n",
        "outputId": "ecb2cb3c-2f9d-4f2b-94d1-1ac5574c136c"
      },
      "execution_count": null,
      "outputs": [
        {
          "output_type": "stream",
          "name": "stdout",
          "text": [
            "arr1: [ 2  4  6  8 10]\n",
            "arr2: [1 2 3 4 5]\n",
            "Element-wise division result: [2. 2. 2. 2. 2.]\n"
          ]
        }
      ]
    },
    {
      "cell_type": "markdown",
      "source": [
        "55. Create a NumPy array `arr1` with integers from 1 to 5 and another array `arr2` with the same numbers\n",
        "reversed. Calculate the exponentiation of `arr1` raised to the power of `arr2` element-wise."
      ],
      "metadata": {
        "id": "CmszfmZNLueI"
      }
    },
    {
      "cell_type": "code",
      "source": [
        "import numpy as np\n",
        "\n",
        "# Generate arr1 with integers from 1 to 5\n",
        "arr1 = np.array([1, 2, 3, 4, 5])\n",
        "\n",
        "# Generate arr2 with the same numbers reversed\n",
        "arr2 = arr1[::-1]\n",
        "\n",
        "# Perform element-wise exponentiation\n",
        "result = np.power(arr1, arr2)\n",
        "\n",
        "print(\"arr1:\", arr1)\n",
        "print(\"arr2:\", arr2)\n",
        "print(\"Element-wise exponentiation result:\", result)"
      ],
      "metadata": {
        "colab": {
          "base_uri": "https://localhost:8080/"
        },
        "id": "0Ejv_uPCLti5",
        "outputId": "100ea841-e7c3-4479-b808-03f3c4a3cf96"
      },
      "execution_count": null,
      "outputs": [
        {
          "output_type": "stream",
          "name": "stdout",
          "text": [
            "arr1: [1 2 3 4 5]\n",
            "arr2: [5 4 3 2 1]\n",
            "Element-wise exponentiation result: [ 1 16 27 16  5]\n"
          ]
        }
      ]
    },
    {
      "cell_type": "markdown",
      "source": [
        "56. Write a function that counts the occurrences of a specific substring within a NumPy array of strings.arr = np.array(['hello', 'world', 'hello', 'numpy', 'hello'])"
      ],
      "metadata": {
        "id": "H2trKj3oMEbT"
      }
    },
    {
      "cell_type": "code",
      "source": [
        "import numpy as np\n",
        "\n",
        "# Define the function to count occurrences of a substring\n",
        "def count_substring_occurrences(array, substring):\n",
        "    return np.sum(np.char.find(array, substring) != -1)\n",
        "\n",
        "# Input array of strings\n",
        "arr = np.array(['hello', 'world', 'hello', 'numpy', 'hello'])\n",
        "\n",
        "# Specify the substring to count\n",
        "substring = 'hello'\n",
        "\n",
        "# Call the function and print the result\n",
        "occurrences = count_substring_occurrences(arr, substring)\n",
        "print(f\"Occurrences of '{substring}':\", occurrences)"
      ],
      "metadata": {
        "colab": {
          "base_uri": "https://localhost:8080/"
        },
        "id": "tJaeoYm8MCdH",
        "outputId": "c39b2c55-b2f6-4759-e875-841314c75153"
      },
      "execution_count": null,
      "outputs": [
        {
          "output_type": "stream",
          "name": "stdout",
          "text": [
            "Occurrences of 'hello': 3\n"
          ]
        }
      ]
    },
    {
      "cell_type": "markdown",
      "source": [
        "57. Write a function that extracts uppercase characters from a NumPy array of strings.\n",
        "\n",
        "arr = np.array(['Hello', 'World', 'OpenAI', 'GPT'])"
      ],
      "metadata": {
        "id": "MY9QZi8XMerP"
      }
    },
    {
      "cell_type": "code",
      "source": [
        "import numpy as np\n",
        "\n",
        "# Define the function to extract uppercase characters\n",
        "def extract_uppercase(array):\n",
        "    # Extract uppercase characters from each string\n",
        "    return np.array([''.join([char for char in string if char.isupper()]) for string in array])\n",
        "\n",
        "# Input array of strings\n",
        "arr = np.array(['Hello', 'World', 'OpenAI', 'GPT'])\n",
        "\n",
        "# Call the function and print the result\n",
        "uppercase_characters = extract_uppercase(arr)\n",
        "print(\"Uppercase characters:\", uppercase_characters)"
      ],
      "metadata": {
        "colab": {
          "base_uri": "https://localhost:8080/"
        },
        "id": "Zv-szMXyMd45",
        "outputId": "8100e427-8797-49e4-a1d9-e7f151e74671"
      },
      "execution_count": null,
      "outputs": [
        {
          "output_type": "stream",
          "name": "stdout",
          "text": [
            "Uppercase characters: ['H' 'W' 'OAI' 'GPT']\n"
          ]
        }
      ]
    },
    {
      "cell_type": "markdown",
      "source": [
        "58. Write a function that replaces occurrences of a substring in a NumPy array of strings with a new string.arr = np.array(['apple', 'banana', 'grape', 'pineapple'])"
      ],
      "metadata": {
        "id": "bOK9a9k9M9zc"
      }
    },
    {
      "cell_type": "code",
      "source": [
        "import numpy as np\n",
        "\n",
        "# Define the function to replace substrings\n",
        "def replace_substring(array, old_substring, new_substring):\n",
        "    return np.char.replace(array, old_substring, new_substring)\n",
        "\n",
        "# Input array of strings\n",
        "arr = np.array(['apple', 'banana', 'grape', 'pineapple'])\n",
        "\n",
        "# Specify the substring to replace and the new substring\n",
        "old_substring = 'apple'\n",
        "new_substring = 'orange'\n",
        "\n",
        "# Call the function and print the result\n",
        "replaced_array = replace_substring(arr, old_substring, new_substring)\n",
        "print(\"Replaced array:\", replaced_array)"
      ],
      "metadata": {
        "colab": {
          "base_uri": "https://localhost:8080/"
        },
        "id": "KqUt0BrgM7MZ",
        "outputId": "ac4bc15d-047d-4321-87eb-f616196c4116"
      },
      "execution_count": null,
      "outputs": [
        {
          "output_type": "stream",
          "name": "stdout",
          "text": [
            "Replaced array: ['orange' 'banana' 'grape' 'pineorange']\n"
          ]
        }
      ]
    },
    {
      "cell_type": "markdown",
      "source": [
        "59. Write a function that concatenates strings in a NumPy array element-wise.arr1 = np.array(['Hello', 'World'])\n",
        "arr2 = np.array(['Open', 'AI'])"
      ],
      "metadata": {
        "id": "l6GPSCJINmkj"
      }
    },
    {
      "cell_type": "code",
      "source": [
        "import numpy as np\n",
        "\n",
        "# Define the function to concatenate strings element-wise\n",
        "def concatenate_strings(arr1, arr2):\n",
        "    return np.char.add(arr1, arr2)\n",
        "\n",
        "# Input arrays\n",
        "arr1 = np.array(['Hello', 'World'])\n",
        "arr2 = np.array(['Open', 'AI'])\n",
        "\n",
        "# Call the function and print the result\n",
        "concatenated_array = concatenate_strings(arr1, arr2)\n",
        "print(\"Concatenated array:\", concatenated_array)"
      ],
      "metadata": {
        "colab": {
          "base_uri": "https://localhost:8080/"
        },
        "id": "aTl0IjEjNk9h",
        "outputId": "f90dbc3c-c861-4458-e67d-4db5fbb7fe66"
      },
      "execution_count": null,
      "outputs": [
        {
          "output_type": "stream",
          "name": "stdout",
          "text": [
            "Concatenated array: ['HelloOpen' 'WorldAI']\n"
          ]
        }
      ]
    },
    {
      "cell_type": "markdown",
      "source": [
        "60. Write a function that finds the length of the longest string in a NumPy array.\n",
        "\n",
        "arr = np.array(['apple', 'banana', 'grape', 'pineapple'])\n",
        "\n",
        "\n",
        "\n"
      ],
      "metadata": {
        "id": "AKxb2it4N8ga"
      }
    },
    {
      "cell_type": "code",
      "source": [
        "import numpy as np\n",
        "\n",
        "# Define the function to find the length of the longest string\n",
        "def longest_string_length(array):\n",
        "    # Compute the length of each string\n",
        "    lengths = np.char.str_len(array)\n",
        "    # Return the maximum length\n",
        "    return np.max(lengths)\n",
        "\n",
        "# Input array of strings\n",
        "arr = np.array(['apple', 'banana', 'grape', 'pineapple'])\n",
        "\n",
        "# Call the function and print the result\n",
        "longest_length = longest_string_length(arr)\n",
        "print(\"Length of the longest string:\", longest_length)"
      ],
      "metadata": {
        "colab": {
          "base_uri": "https://localhost:8080/"
        },
        "id": "WSg4sl__N7AJ",
        "outputId": "01e307bd-4293-44f9-ca74-38c927efa188"
      },
      "execution_count": null,
      "outputs": [
        {
          "output_type": "stream",
          "name": "stdout",
          "text": [
            "Length of the longest string: 9\n"
          ]
        }
      ]
    },
    {
      "cell_type": "markdown",
      "source": [
        "61. Create a dataset of 100 random integers between 1 and 1000. Compute the mean, median, variance, and\n",
        "standard deviation of the dataset using NumPy's functions."
      ],
      "metadata": {
        "id": "o_Zf8Q49OMy7"
      }
    },
    {
      "cell_type": "code",
      "source": [
        "# Generate a dataset of 100 random integers between 1 and 1000\n",
        "np.random.seed(42)  # For reproducibility\n",
        "random_dataset = np.random.randint(1, 1001, 100)\n",
        "\n",
        "# Compute statistical metrics\n",
        "mean_value = np.mean(random_dataset)\n",
        "median_value = np.median(random_dataset)\n",
        "variance_value = np.var(random_dataset)\n",
        "std_deviation_value = np.std(random_dataset)\n",
        "\n",
        "# Display the results\n",
        "mean_value, median_value, variance_value, std_deviation_value\n"
      ],
      "metadata": {
        "colab": {
          "base_uri": "https://localhost:8080/"
        },
        "id": "woq0BgiyQQ3d",
        "outputId": "7c44b886-2a2e-43d8-bd8f-fc684ed00989"
      },
      "execution_count": null,
      "outputs": [
        {
          "output_type": "execute_result",
          "data": {
            "text/plain": [
              "(474.79, 463.5, 81245.46590000001, 285.0359028262931)"
            ]
          },
          "metadata": {},
          "execution_count": 2
        }
      ]
    },
    {
      "cell_type": "markdown",
      "source": [
        "62. Generate an array of 50 random numbers between 1 and 100. Find the 25th and 75th percentiles of the\n",
        "dataset.\n",
        "\n",
        "\n"
      ],
      "metadata": {
        "id": "cdqfco6-Og64"
      }
    },
    {
      "cell_type": "code",
      "source": [
        "# Re-import necessary library after execution state reset\n",
        "import numpy as np\n",
        "\n",
        "# Generate an array of 50 random numbers between 1 and 100\n",
        "np.random.seed(42)  # For reproducibility\n",
        "random_numbers = np.random.randint(1, 101, 50)\n",
        "\n",
        "# Calculate the 25th and 75th percentiles\n",
        "percentile_25 = np.percentile(random_numbers, 25)\n",
        "percentile_75 = np.percentile(random_numbers, 75)\n",
        "\n",
        "# Display the results\n",
        "percentile_25, percentile_75\n"
      ],
      "metadata": {
        "colab": {
          "base_uri": "https://localhost:8080/"
        },
        "id": "er7UtpBiQKGC",
        "outputId": "07d16a98-78d6-48c8-883e-18ad5f0cc627"
      },
      "execution_count": null,
      "outputs": [
        {
          "output_type": "execute_result",
          "data": {
            "text/plain": [
              "(25.5, 74.5)"
            ]
          },
          "metadata": {},
          "execution_count": 1
        }
      ]
    },
    {
      "cell_type": "markdown",
      "source": [
        "63. Create two arrays representing two sets of variables. Compute the correlation coefficient between these\n",
        "arrays using NumPy's `corrcoef` function."
      ],
      "metadata": {
        "id": "Kqa-Q7Qg_Hd9"
      }
    },
    {
      "cell_type": "code",
      "source": [
        "# Generate two random arrays representing two sets of variables\n",
        "np.random.seed(42)  # For reproducibility\n",
        "array1 = np.random.randint(1, 100, 50)\n",
        "array2 = np.random.randint(1, 100, 50)\n",
        "\n",
        "# Compute the correlation coefficient matrix\n",
        "correlation_matrix = np.corrcoef(array1, array2)\n",
        "\n",
        "# Extract the correlation coefficient\n",
        "correlation_coefficient = correlation_matrix[0, 1]\n",
        "\n",
        "# Display the result\n",
        "correlation_coefficient\n"
      ],
      "metadata": {
        "colab": {
          "base_uri": "https://localhost:8080/"
        },
        "id": "CzgOJ8ZgQraZ",
        "outputId": "f1932132-0c4f-4a3a-cf05-353763587cca"
      },
      "execution_count": null,
      "outputs": [
        {
          "output_type": "execute_result",
          "data": {
            "text/plain": [
              "-0.1156682265480604"
            ]
          },
          "metadata": {},
          "execution_count": 3
        }
      ]
    },
    {
      "cell_type": "markdown",
      "source": [
        "64. Create two matrices and perform matrix multiplication using NumPy's `dot` function.\n",
        "\n",
        "\n"
      ],
      "metadata": {
        "id": "60AzR_lW-0Fu"
      }
    },
    {
      "cell_type": "code",
      "source": [
        "# Generate two random matrices (3x3)\n",
        "np.random.seed(42)  # For reproducibility\n",
        "matrix1 = np.random.randint(1, 10, (3, 3))\n",
        "matrix2 = np.random.randint(1, 10, (3, 3))\n",
        "\n",
        "# Perform matrix multiplication using np.dot\n",
        "result_matrix = np.dot(matrix1, matrix2)\n",
        "\n",
        "# Display the matrices and the result\n",
        "matrix1, matrix2, result_matrix\n"
      ],
      "metadata": {
        "colab": {
          "base_uri": "https://localhost:8080/"
        },
        "id": "ZtzIgXLzQuzQ",
        "outputId": "bd1bad3e-61d4-47f6-8bac-d38c36e95fc7"
      },
      "execution_count": null,
      "outputs": [
        {
          "output_type": "execute_result",
          "data": {
            "text/plain": [
              "(array([[7, 4, 8],\n",
              "        [5, 7, 3],\n",
              "        [7, 8, 5]]),\n",
              " array([[4, 8, 8],\n",
              "        [3, 6, 5],\n",
              "        [2, 8, 6]]),\n",
              " array([[ 56, 144, 124],\n",
              "        [ 47, 106,  93],\n",
              "        [ 62, 144, 126]]))"
            ]
          },
          "metadata": {},
          "execution_count": 4
        }
      ]
    },
    {
      "cell_type": "markdown",
      "source": [
        "65. Create an array of 50 integers between 10 and 1000. Calculate the 10th, 50th (median), and 90th\n",
        "percentiles along with the first and third quartiles."
      ],
      "metadata": {
        "id": "EWyuyqUsAMKL"
      }
    },
    {
      "cell_type": "code",
      "source": [
        "# Generate an array of 50 random integers between 10 and 1000\n",
        "np.random.seed(42)  # For reproducibility\n",
        "random_array = np.random.randint(10, 1001, 50)\n",
        "\n",
        "# Calculate percentiles and quartiles\n",
        "percentile_10 = np.percentile(random_array, 10)\n",
        "percentile_50 = np.percentile(random_array, 50)  # Median\n",
        "percentile_90 = np.percentile(random_array, 90)\n",
        "quartile_1 = np.percentile(random_array, 25)  # First quartile (Q1)\n",
        "quartile_3 = np.percentile(random_array, 75)  # Third quartile (Q3)\n",
        "\n",
        "# Display the results\n",
        "percentile_10, percentile_50, percentile_90, quartile_1, quartile_3\n"
      ],
      "metadata": {
        "colab": {
          "base_uri": "https://localhost:8080/"
        },
        "id": "StoWtsKXRBLw",
        "outputId": "62febb2f-95f7-4e7e-eaa8-b3a9faa64fb9"
      },
      "execution_count": null,
      "outputs": [
        {
          "output_type": "execute_result",
          "data": {
            "text/plain": [
              "(107.80000000000001, 456.5, 866.4, 206.75, 694.75)"
            ]
          },
          "metadata": {},
          "execution_count": 5
        }
      ]
    },
    {
      "cell_type": "markdown",
      "source": [
        "66. Create a NumPy array of integers and find the index of a specific element."
      ],
      "metadata": {
        "id": "S41quo5pROU_"
      }
    },
    {
      "cell_type": "code",
      "source": [
        "# Generate a NumPy array of integers\n",
        "np.random.seed(42)  # For reproducibility\n",
        "num_array = np.random.randint(1, 100, 20)  # Array of 20 integers between 1 and 100\n",
        "\n",
        "# Choose a specific element to find its index\n",
        "element_to_find = num_array[5]  # Selecting an element that exists in the array\n",
        "\n",
        "# Find the index of the specific element\n",
        "index = np.where(num_array == element_to_find)[0][0]\n",
        "\n",
        "# Display the array, the element, and its index\n",
        "num_array, element_to_find, index\n"
      ],
      "metadata": {
        "colab": {
          "base_uri": "https://localhost:8080/"
        },
        "id": "kazYQdl9RMvu",
        "outputId": "564aeb07-70f1-4aa1-9116-9b69373e65d0"
      },
      "execution_count": null,
      "outputs": [
        {
          "output_type": "execute_result",
          "data": {
            "text/plain": [
              "(array([52, 93, 15, 72, 61, 21, 83, 87, 75, 75, 88, 24,  3, 22, 53,  2, 88,\n",
              "        30, 38,  2]),\n",
              " 21,\n",
              " 5)"
            ]
          },
          "metadata": {},
          "execution_count": 6
        }
      ]
    },
    {
      "cell_type": "markdown",
      "source": [
        "67. Generate a random NumPy array and sort it in ascending order."
      ],
      "metadata": {
        "id": "vqe3bIrTRgdp"
      }
    },
    {
      "cell_type": "code",
      "source": [
        "# Generate a random NumPy array of 15 integers between 1 and 100\n",
        "np.random.seed(42)  # For reproducibility\n",
        "random_array = np.random.randint(1, 100, 15)\n",
        "\n",
        "# Sort the array in ascending order\n",
        "sorted_array = np.sort(random_array)\n",
        "\n",
        "# Display the original and sorted arrays\n",
        "random_array, sorted_array\n"
      ],
      "metadata": {
        "colab": {
          "base_uri": "https://localhost:8080/"
        },
        "id": "xAajHQqjRfPY",
        "outputId": "6d28ec7c-d856-4f95-a827-4742007c1d80"
      },
      "execution_count": null,
      "outputs": [
        {
          "output_type": "execute_result",
          "data": {
            "text/plain": [
              "(array([52, 93, 15, 72, 61, 21, 83, 87, 75, 75, 88, 24,  3, 22, 53]),\n",
              " array([ 3, 15, 21, 22, 24, 52, 53, 61, 72, 75, 75, 83, 87, 88, 93]))"
            ]
          },
          "metadata": {},
          "execution_count": 7
        }
      ]
    },
    {
      "cell_type": "markdown",
      "source": [
        "68. Filter elements >20  in the given NumPy array.arr = np.array([12, 25, 6, 42, 8, 30])"
      ],
      "metadata": {
        "id": "fKtaLzmhRw1_"
      }
    },
    {
      "cell_type": "code",
      "source": [
        "# Import NumPy\n",
        "import numpy as np\n",
        "\n",
        "# Given NumPy array\n",
        "arr = np.array([12, 25, 6, 42, 8, 30])\n",
        "\n",
        "# Filter elements greater than 20\n",
        "filtered_arr = arr[arr > 20]\n",
        "\n",
        "# Display the filtered array\n",
        "filtered_arr\n"
      ],
      "metadata": {
        "colab": {
          "base_uri": "https://localhost:8080/"
        },
        "id": "30Hi8HXZRxiM",
        "outputId": "5ee3ed96-01ea-4f0d-a5a6-758370b6114a"
      },
      "execution_count": null,
      "outputs": [
        {
          "output_type": "execute_result",
          "data": {
            "text/plain": [
              "array([25, 42, 30])"
            ]
          },
          "metadata": {},
          "execution_count": 8
        }
      ]
    },
    {
      "cell_type": "markdown",
      "source": [
        "69. Filter elements which are divisible by 3 from a given NumPy arrayarr = np.array([1, 5, 8, 12, 15])"
      ],
      "metadata": {
        "id": "SMejhe_jSL7X"
      }
    },
    {
      "cell_type": "code",
      "source": [
        "# Given NumPy array\n",
        "arr = np.array([1, 5, 8, 12, 15])\n",
        "\n",
        "# Filter elements divisible by 3\n",
        "filtered_arr = arr[arr % 3 == 0]\n",
        "\n",
        "# Display the filtered array\n",
        "filtered_arr\n"
      ],
      "metadata": {
        "colab": {
          "base_uri": "https://localhost:8080/"
        },
        "id": "PbR-qt4XRvl8",
        "outputId": "48a354db-0811-42a2-f5ed-70e302a057ad"
      },
      "execution_count": null,
      "outputs": [
        {
          "output_type": "execute_result",
          "data": {
            "text/plain": [
              "array([12, 15])"
            ]
          },
          "metadata": {},
          "execution_count": 9
        }
      ]
    },
    {
      "cell_type": "markdown",
      "source": [
        "70. Filter elements which are ≥ 20 and ≤ 40 from a given NumPy array.arr = np.array([10, 20, 30, 40, 50])\n"
      ],
      "metadata": {
        "id": "45mBSMf5Sc3P"
      }
    },
    {
      "cell_type": "code",
      "source": [
        "# Given NumPy array\n",
        "arr = np.array([10, 20, 30, 40, 50])\n",
        "\n",
        "# Filter elements that are ≥ 20 and ≤ 40\n",
        "filtered_arr = arr[(arr >= 20) & (arr <= 40)]\n",
        "\n",
        "# Display the filtered array\n",
        "filtered_arr\n"
      ],
      "metadata": {
        "colab": {
          "base_uri": "https://localhost:8080/"
        },
        "id": "goGohB4KSbOT",
        "outputId": "23d4c24a-3601-443f-842d-14a9b14cbe2d"
      },
      "execution_count": null,
      "outputs": [
        {
          "output_type": "execute_result",
          "data": {
            "text/plain": [
              "array([20, 30, 40])"
            ]
          },
          "metadata": {},
          "execution_count": 10
        }
      ]
    },
    {
      "cell_type": "markdown",
      "source": [
        "71. For the given NumPy array, check its byte order using the `dtype` attribute byteorder.arr = np.array([1, 2, 3])"
      ],
      "metadata": {
        "id": "5bsWN2o9S0fq"
      }
    },
    {
      "cell_type": "code",
      "source": [
        "# Given NumPy array\n",
        "arr = np.array([1, 2, 3])\n",
        "\n",
        "# Check the byte order using the dtype attribute\n",
        "byte_order = arr.dtype.byteorder\n",
        "\n",
        "# Display the byte order\n",
        "byte_order\n"
      ],
      "metadata": {
        "colab": {
          "base_uri": "https://localhost:8080/",
          "height": 35
        },
        "id": "7WbzzM_9Sx8H",
        "outputId": "79fa2a94-9f4e-4e2f-a6df-1052e45b293d"
      },
      "execution_count": null,
      "outputs": [
        {
          "output_type": "execute_result",
          "data": {
            "text/plain": [
              "'='"
            ],
            "application/vnd.google.colaboratory.intrinsic+json": {
              "type": "string"
            }
          },
          "metadata": {},
          "execution_count": 11
        }
      ]
    },
    {
      "cell_type": "markdown",
      "source": [
        "72. For the given NumPy array, perform byte swapping in place using `byteswap()`.arr = np.array([1, 2, 3], dtype=np.int32)"
      ],
      "metadata": {
        "id": "GvXTOluDTHN3"
      }
    },
    {
      "cell_type": "code",
      "source": [
        "# Given NumPy array with specified dtype\n",
        "arr = np.array([1, 2, 3], dtype=np.int32)\n",
        "\n",
        "# Perform byte swapping in place\n",
        "arr.byteswap(inplace=True)\n",
        "\n",
        "# Display the modified array\n",
        "arr\n"
      ],
      "metadata": {
        "colab": {
          "base_uri": "https://localhost:8080/"
        },
        "id": "ujnR41wGTF6w",
        "outputId": "2d3bc53c-6de3-44ae-9f86-e06f4729ebc8"
      },
      "execution_count": null,
      "outputs": [
        {
          "output_type": "execute_result",
          "data": {
            "text/plain": [
              "array([16777216, 33554432, 50331648], dtype=int32)"
            ]
          },
          "metadata": {},
          "execution_count": 12
        }
      ]
    },
    {
      "cell_type": "markdown",
      "source": [
        "73. For the given NumPy array, swap its byte order without modifying the original array using\n",
        "`newbyteorder()`.arr = np.array([1, 2, 3], dtype=np.int32)\n"
      ],
      "metadata": {
        "id": "ITGFEW3NZeFI"
      }
    },
    {
      "cell_type": "code",
      "source": [
        "# Given NumPy array with specified dtype\n",
        "arr = np.array([1, 2, 3], dtype=np.int32)\n",
        "\n",
        "# Swap byte order without modifying the original array\n",
        "swapped_arr = arr.newbyteorder()\n",
        "\n",
        "# Display the original and swapped arrays\n",
        "arr, swapped_arr\n"
      ],
      "metadata": {
        "colab": {
          "base_uri": "https://localhost:8080/"
        },
        "id": "FBPCPZn6TXLu",
        "outputId": "963dbee3-49e5-4124-e92d-7d792e21fbc0"
      },
      "execution_count": null,
      "outputs": [
        {
          "output_type": "execute_result",
          "data": {
            "text/plain": [
              "(array([1, 2, 3], dtype=int32),\n",
              " array([16777216, 33554432, 50331648], dtype='>i4'))"
            ]
          },
          "metadata": {},
          "execution_count": 13
        }
      ]
    },
    {
      "cell_type": "markdown",
      "source": [
        "74. For the given NumPy array and swap its byte order conditionally based on system endianness using\n",
        "`newbyteorder()`.arr = np.array([1, 2, 3], dtype=np.int32)"
      ],
      "metadata": {
        "id": "pCyviVxiZ3A4"
      }
    },
    {
      "cell_type": "code",
      "source": [
        "# Given NumPy array with specified dtype\n",
        "arr = np.array([1, 2, 3], dtype=np.int32)\n",
        "\n",
        "# Check system endianness and swap byte order conditionally\n",
        "if arr.dtype.byteorder == '=':  # Native byte order\n",
        "    swapped_arr = arr.newbyteorder('S')  # Swap to opposite endianness\n",
        "else:\n",
        "    swapped_arr = arr.newbyteorder('=')  # Convert to native endianness\n",
        "\n",
        "# Display the original and swapped arrays\n",
        "arr, swapped_arr\n"
      ],
      "metadata": {
        "colab": {
          "base_uri": "https://localhost:8080/"
        },
        "id": "O1k1Hz27Z05s",
        "outputId": "75e5cf72-3acb-418c-f6c2-4b5af272e090"
      },
      "execution_count": null,
      "outputs": [
        {
          "output_type": "execute_result",
          "data": {
            "text/plain": [
              "(array([1, 2, 3], dtype=int32),\n",
              " array([16777216, 33554432, 50331648], dtype='>i4'))"
            ]
          },
          "metadata": {},
          "execution_count": 14
        }
      ]
    },
    {
      "cell_type": "markdown",
      "source": [
        "75. For the given NumPy array, check if byte swapping is necessary for the current system using `dtype`\n",
        "attribute `byteorder`.arr = np.array([1, 2, 3], dtype=np.int32)"
      ],
      "metadata": {
        "id": "bE1MaQqiaNh5"
      }
    },
    {
      "cell_type": "code",
      "source": [
        "# Given NumPy array with specified dtype\n",
        "arr = np.array([1, 2, 3], dtype=np.int32)\n",
        "\n",
        "# Check if byte swapping is necessary\n",
        "needs_byte_swap = arr.dtype.byteorder not in ('=', '|')  # '=' means native byte order, '|' means not applicable\n",
        "\n",
        "# Display the result\n",
        "needs_byte_swap\n"
      ],
      "metadata": {
        "colab": {
          "base_uri": "https://localhost:8080/"
        },
        "id": "yC6YGKNvaL4t",
        "outputId": "ccc998e2-10c5-4790-bf0b-847a34d5adfd"
      },
      "execution_count": null,
      "outputs": [
        {
          "output_type": "execute_result",
          "data": {
            "text/plain": [
              "False"
            ]
          },
          "metadata": {},
          "execution_count": 15
        }
      ]
    },
    {
      "cell_type": "markdown",
      "source": [
        "76. Create a NumPy array `arr1` with values from 1 to 10. Create a copy of `arr1` named `copy_arr` and modify\n",
        "an element in `copy_arr`. Check if modifying `copy_arr` affects `arr1`."
      ],
      "metadata": {
        "id": "C9a7wik5adh3"
      }
    },
    {
      "cell_type": "code",
      "source": [
        "# Create a NumPy array with values from 1 to 10\n",
        "arr1 = np.arange(1, 11)\n",
        "\n",
        "# Create a copy of arr1\n",
        "copy_arr = arr1.copy()\n",
        "\n",
        "# Modify an element in copy_arr\n",
        "copy_arr[0] = 100\n",
        "\n",
        "# Check if modifying copy_arr affects arr1\n",
        "arr1, copy_arr\n"
      ],
      "metadata": {
        "colab": {
          "base_uri": "https://localhost:8080/"
        },
        "id": "81bzbgGqacTe",
        "outputId": "4ab331d1-96de-43a6-91a7-14b3ae8ab2cd"
      },
      "execution_count": null,
      "outputs": [
        {
          "output_type": "execute_result",
          "data": {
            "text/plain": [
              "(array([ 1,  2,  3,  4,  5,  6,  7,  8,  9, 10]),\n",
              " array([100,   2,   3,   4,   5,   6,   7,   8,   9,  10]))"
            ]
          },
          "metadata": {},
          "execution_count": 16
        }
      ]
    },
    {
      "cell_type": "markdown",
      "source": [
        "77. Create a 2D NumPy array `matrix` of shape (3, 3) with random integers. Extract a slice `view_slice` from\n",
        "the matrix. Modify an element in `view_slice` and observe if it changes the original `matrix`."
      ],
      "metadata": {
        "id": "A035Bg-QawMq"
      }
    },
    {
      "cell_type": "code",
      "source": [
        "# Generate a 2D NumPy array (3x3) with random integers\n",
        "np.random.seed(42)  # For reproducibility\n",
        "matrix = np.random.randint(1, 100, (3, 3))\n",
        "\n",
        "# Extract a slice (view) from the matrix\n",
        "view_slice = matrix[:2, :2]  # Top-left 2x2 submatrix\n",
        "\n",
        "# Modify an element in view_slice\n",
        "view_slice[0, 0] = 999\n",
        "\n",
        "# Display the original matrix and the view slice\n",
        "matrix, view_slice\n"
      ],
      "metadata": {
        "colab": {
          "base_uri": "https://localhost:8080/"
        },
        "id": "-DRoQ3wDauYz",
        "outputId": "4c412e1a-f71e-4201-bf05-506407c3972e"
      },
      "execution_count": null,
      "outputs": [
        {
          "output_type": "execute_result",
          "data": {
            "text/plain": [
              "(array([[999,  93,  15],\n",
              "        [ 72,  61,  21],\n",
              "        [ 83,  87,  75]]),\n",
              " array([[999,  93],\n",
              "        [ 72,  61]]))"
            ]
          },
          "metadata": {},
          "execution_count": 17
        }
      ]
    },
    {
      "cell_type": "markdown",
      "source": [
        "78. Create a NumPy array `array_a` of shape (4, 3) with sequential integers from 1 to 12. Extract a slice\n",
        "`view_b` from `array_a` and broadcast the addition of 5 to view_b. Check if it alters the original `array_a`."
      ],
      "metadata": {
        "id": "WZtyfai5a984"
      }
    },
    {
      "cell_type": "code",
      "source": [
        "# Create a NumPy array of shape (4, 3) with sequential integers from 1 to 12\n",
        "array_a = np.arange(1, 13).reshape(4, 3)\n",
        "\n",
        "# Extract a slice (view) from array_a\n",
        "view_b = array_a[:2, :2]  # Top-left 2x2 submatrix\n",
        "\n",
        "# Broadcast the addition of 5 to view_b\n",
        "view_b += 5\n",
        "\n",
        "# Display the original array and the view slice\n",
        "array_a, view_b\n"
      ],
      "metadata": {
        "colab": {
          "base_uri": "https://localhost:8080/"
        },
        "id": "kwNBn3qka8-5",
        "outputId": "6848edd2-5958-4708-89a8-dfc602ba52ad"
      },
      "execution_count": null,
      "outputs": [
        {
          "output_type": "execute_result",
          "data": {
            "text/plain": [
              "(array([[ 6,  7,  3],\n",
              "        [ 9, 10,  6],\n",
              "        [ 7,  8,  9],\n",
              "        [10, 11, 12]]),\n",
              " array([[ 6,  7],\n",
              "        [ 9, 10]]))"
            ]
          },
          "metadata": {},
          "execution_count": 18
        }
      ]
    },
    {
      "cell_type": "markdown",
      "source": [
        "79. Create a NumPy array `orig_array` of shape (2, 4) with values from 1 to 8. Create a reshaped view\n",
        "`reshaped_view` of shape (4, 2) from orig_array. Modify an element in `reshaped_view` and check if it\n",
        "reflects changes in the original `orig_array`."
      ],
      "metadata": {
        "id": "yJpbF-K4bMV_"
      }
    },
    {
      "cell_type": "code",
      "source": [
        "# Create a NumPy array of shape (2, 4) with values from 1 to 8\n",
        "orig_array = np.arange(1, 9).reshape(2, 4)\n",
        "\n",
        "# Create a reshaped view of shape (4, 2)\n",
        "reshaped_view = orig_array.reshape(4, 2)\n",
        "\n",
        "# Modify an element in reshaped_view\n",
        "reshaped_view[0, 0] = 999\n",
        "\n",
        "# Display the original array and the reshaped view\n",
        "orig_array, reshaped_view\n"
      ],
      "metadata": {
        "colab": {
          "base_uri": "https://localhost:8080/"
        },
        "id": "CcGPB8oibLgG",
        "outputId": "68d6f3bf-a717-4a97-8673-9fc1133a388b"
      },
      "execution_count": null,
      "outputs": [
        {
          "output_type": "execute_result",
          "data": {
            "text/plain": [
              "(array([[999,   2,   3,   4],\n",
              "        [  5,   6,   7,   8]]),\n",
              " array([[999,   2],\n",
              "        [  3,   4],\n",
              "        [  5,   6],\n",
              "        [  7,   8]]))"
            ]
          },
          "metadata": {},
          "execution_count": 19
        }
      ]
    },
    {
      "cell_type": "markdown",
      "source": [
        "80. Create a NumPy array `data` of shape (3, 4) with random integers. Extract a copy `data_copy` of\n",
        "elements greater than 5. Modify an element in `data_copy` and verify if it affects the original `data`."
      ],
      "metadata": {
        "id": "bP8qQzjsbaOQ"
      }
    },
    {
      "cell_type": "code",
      "source": [
        "# Generate a NumPy array (3x4) with random integers between 1 and 10\n",
        "np.random.seed(42)  # For reproducibility\n",
        "data = np.random.randint(1, 11, (3, 4))\n",
        "\n",
        "# Extract a copy of elements greater than 5\n",
        "data_copy = data[data > 5].copy()\n",
        "\n",
        "# Modify an element in data_copy\n",
        "data_copy[0] = 999\n",
        "\n",
        "# Display the original array and the modified copy\n",
        "data, data_copy\n"
      ],
      "metadata": {
        "colab": {
          "base_uri": "https://localhost:8080/"
        },
        "id": "cQIwcwyQbYhl",
        "outputId": "9b4a04cb-cd66-4d82-8fb9-315cf1741881"
      },
      "execution_count": null,
      "outputs": [
        {
          "output_type": "execute_result",
          "data": {
            "text/plain": [
              "(array([[ 7,  4,  8,  5],\n",
              "        [ 7, 10,  3,  7],\n",
              "        [ 8,  5,  4,  8]]),\n",
              " array([999,   8,   7,  10,   7,   8,   8]))"
            ]
          },
          "metadata": {},
          "execution_count": 20
        }
      ]
    },
    {
      "cell_type": "markdown",
      "source": [
        "81. Create two matrices A and B of identical shape containing integers and perform addition and subtraction\n",
        "operations between them."
      ],
      "metadata": {
        "id": "WhQk7Ij7bnJJ"
      }
    },
    {
      "cell_type": "code",
      "source": [
        "# Create two matrices A and B of identical shape (3x3) with random integers\n",
        "np.random.seed(42)  # For reproducibility\n",
        "A = np.random.randint(1, 20, (3, 3))\n",
        "B = np.random.randint(1, 20, (3, 3))\n",
        "\n",
        "# Perform addition and subtraction\n",
        "sum_matrix = A + B\n",
        "diff_matrix = A - B\n",
        "\n",
        "# Display the matrices and results\n",
        "A, B, sum_matrix, diff_matrix\n"
      ],
      "metadata": {
        "colab": {
          "base_uri": "https://localhost:8080/"
        },
        "id": "8AM0Xr-Gbl_Y",
        "outputId": "59b3366c-730a-46d2-d60b-0a1bc44f5101"
      },
      "execution_count": null,
      "outputs": [
        {
          "output_type": "execute_result",
          "data": {
            "text/plain": [
              "(array([[ 7, 15, 11],\n",
              "        [ 8,  7, 19],\n",
              "        [11, 11,  4]]),\n",
              " array([[ 8,  3,  2],\n",
              "        [12,  6,  2],\n",
              "        [ 1, 12, 12]]),\n",
              " array([[15, 18, 13],\n",
              "        [20, 13, 21],\n",
              "        [12, 23, 16]]),\n",
              " array([[-1, 12,  9],\n",
              "        [-4,  1, 17],\n",
              "        [10, -1, -8]]))"
            ]
          },
          "metadata": {},
          "execution_count": 21
        }
      ]
    },
    {
      "cell_type": "markdown",
      "source": [
        "82. Generate two matrices `C` (3x2) and `D` (2x4) and perform matrix multiplication."
      ],
      "metadata": {
        "id": "quHmMm2Rb3Zs"
      }
    },
    {
      "cell_type": "code",
      "source": [
        "# Create two matrices C (3x2) and D (2x4) with random integers\n",
        "np.random.seed(42)  # For reproducibility\n",
        "C = np.random.randint(1, 10, (3, 2))\n",
        "D = np.random.randint(1, 10, (2, 4))\n",
        "\n",
        "# Perform matrix multiplication\n",
        "result_matrix = np.dot(C, D)\n",
        "\n",
        "# Display the matrices and result\n",
        "C, D, result_matrix\n"
      ],
      "metadata": {
        "colab": {
          "base_uri": "https://localhost:8080/"
        },
        "id": "rbbVVnZkb2ii",
        "outputId": "09ea48ef-3863-4442-ba23-a9e91fe8acd6"
      },
      "execution_count": null,
      "outputs": [
        {
          "output_type": "execute_result",
          "data": {
            "text/plain": [
              "(array([[7, 4],\n",
              "        [8, 5],\n",
              "        [7, 3]]),\n",
              " array([[7, 8, 5, 4],\n",
              "        [8, 8, 3, 6]]),\n",
              " array([[ 81,  88,  47,  52],\n",
              "        [ 96, 104,  55,  62],\n",
              "        [ 73,  80,  44,  46]]))"
            ]
          },
          "metadata": {},
          "execution_count": 22
        }
      ]
    },
    {
      "cell_type": "markdown",
      "source": [
        "83. Create a matrix `E` and find its transpose."
      ],
      "metadata": {
        "id": "tISYQr2CcFQn"
      }
    },
    {
      "cell_type": "code",
      "source": [
        "# Create a matrix E (3x3) with random integers\n",
        "np.random.seed(42)  # For reproducibility\n",
        "E = np.random.randint(1, 20, (3, 3))\n",
        "\n",
        "# Compute the transpose of E\n",
        "E_transpose = E.T\n",
        "\n",
        "# Display the original matrix and its transpose\n",
        "E, E_transpose\n"
      ],
      "metadata": {
        "colab": {
          "base_uri": "https://localhost:8080/"
        },
        "id": "JmrpqVI7cDey",
        "outputId": "e9c83df4-6971-460e-949f-8eae3857d510"
      },
      "execution_count": null,
      "outputs": [
        {
          "output_type": "execute_result",
          "data": {
            "text/plain": [
              "(array([[ 7, 15, 11],\n",
              "        [ 8,  7, 19],\n",
              "        [11, 11,  4]]),\n",
              " array([[ 7,  8, 11],\n",
              "        [15,  7, 11],\n",
              "        [11, 19,  4]]))"
            ]
          },
          "metadata": {},
          "execution_count": 23
        }
      ]
    },
    {
      "cell_type": "markdown",
      "source": [
        "84. Generate a square matrix `F` and compute its determinant."
      ],
      "metadata": {
        "id": "uVLCu9qscRUJ"
      }
    },
    {
      "cell_type": "code",
      "source": [
        "import numpy as np\n",
        "\n",
        "# Create a square matrix F (3x3) with random integers\n",
        "np.random.seed(42)  # For reproducibility\n",
        "F = np.random.randint(1, 10, (3, 3))\n",
        "\n",
        "# Compute the determinant of F\n",
        "det_F = np.linalg.det(F)\n",
        "\n",
        "# Display the matrix and its determinant\n",
        "F, det_F\n"
      ],
      "metadata": {
        "colab": {
          "base_uri": "https://localhost:8080/"
        },
        "id": "yhm19IchcQaB",
        "outputId": "0b08ca8d-1b4a-4156-9abb-c15ad0b10b0b"
      },
      "execution_count": null,
      "outputs": [
        {
          "output_type": "execute_result",
          "data": {
            "text/plain": [
              "(array([[7, 4, 8],\n",
              "        [5, 7, 3],\n",
              "        [7, 8, 5]]),\n",
              " -11.00000000000003)"
            ]
          },
          "metadata": {},
          "execution_count": 24
        }
      ]
    },
    {
      "cell_type": "markdown",
      "source": [
        "85. Create a square matrix `G` and find its inverse."
      ],
      "metadata": {
        "id": "lvvnNiCacenx"
      }
    },
    {
      "cell_type": "code",
      "source": [
        "# Create a square matrix G (3x3) with random integers\n",
        "np.random.seed(42)  # For reproducibility\n",
        "G = np.random.randint(1, 10, (3, 3))\n",
        "\n",
        "# Compute the inverse of G\n",
        "G_inverse = np.linalg.inv(G)\n",
        "\n",
        "# Display the matrix and its inverse\n",
        "G, G_inverse\n"
      ],
      "metadata": {
        "colab": {
          "base_uri": "https://localhost:8080/"
        },
        "id": "V2x5MDVWcdpF",
        "outputId": "28431fac-b68b-4338-a86f-57faa8a5dd0a"
      },
      "execution_count": null,
      "outputs": [
        {
          "output_type": "execute_result",
          "data": {
            "text/plain": [
              "(array([[7, 4, 8],\n",
              "        [5, 7, 3],\n",
              "        [7, 8, 5]]),\n",
              " array([[-1.        , -4.        ,  4.        ],\n",
              "        [ 0.36363636,  1.90909091, -1.72727273],\n",
              "        [ 0.81818182,  2.54545455, -2.63636364]]))"
            ]
          },
          "metadata": {},
          "execution_count": 25
        }
      ]
    },
    {
      "cell_type": "code",
      "source": [],
      "metadata": {
        "id": "-hYa2dxRcqR3"
      },
      "execution_count": null,
      "outputs": []
    }
  ]
}